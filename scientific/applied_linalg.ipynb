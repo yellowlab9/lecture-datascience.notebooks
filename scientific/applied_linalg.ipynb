{
 "cells": [
  {
   "cell_type": "markdown",
   "id": "fd0535d4",
   "metadata": {},
   "source": [
    "# Applied Linear Algebra\n",
    "\n",
    "**Prerequisites**\n",
    "\n",
    "- [Introduction to Numpy](https://datascience.quantecon.org/numpy_arrays.html)  \n",
    "\n",
    "\n",
    "**Outcomes**\n",
    "\n",
    "- Refresh some important linear algebra concepts  \n",
    "- Use `numpy` to do linear algebra operations  "
   ]
  },
  {
   "cell_type": "code",
   "execution_count": 1,
   "id": "f734f3b1",
   "metadata": {
    "hide-output": false
   },
   "outputs": [],
   "source": [
    "# Uncomment following line to install on colab\n",
    "#! pip install "
   ]
  },
  {
   "cell_type": "code",
   "execution_count": 2,
   "id": "4484098f",
   "metadata": {
    "hide-output": false
   },
   "outputs": [],
   "source": [
    "# import numpy to prepare for code below\n",
    "import numpy as np\n",
    "import matplotlib.pyplot as plt\n",
    "\n",
    "%matplotlib inline"
   ]
  },
  {
   "cell_type": "markdown",
   "id": "b6d66d2b",
   "metadata": {},
   "source": [
    "## Vectors and Matrices"
   ]
  },
  {
   "cell_type": "markdown",
   "id": "ba6d0f3d",
   "metadata": {},
   "source": [
    "### Vectors\n",
    "\n",
    "A (N-element) vector is $ N $ numbers stored together.\n",
    "\n",
    "We typically write a vector as $ x = \\begin{bmatrix} x_1 \\\\ x_2 \\\\ \\dots \\\\ x_N \\end{bmatrix} $.\n",
    "\n",
    "In numpy terms, a vector is a 1-dimensional array.\n",
    "\n",
    "We often think of 2-element vectors as directional lines in the XY axes.\n",
    "\n",
    "This image, from the [QuantEcon Python lecture](https://python.quantecon.org/linear_algebra.html)\n",
    "is an example of what this might look like for the vectors `(-4, 3.5)`, `(-3, 3)`, and `(2, 4)`.\n",
    "\n",
    "![https://datascience.quantecon.org/_static/vector.png](https://datascience.quantecon.org/_static/vector.png)\n",
    "\n",
    "  \n",
    "In a previous lecture, we saw some types of operations that can be done on\n",
    "vectors, such as"
   ]
  },
  {
   "cell_type": "code",
   "execution_count": 3,
   "id": "5b954fa5",
   "metadata": {
    "hide-output": false
   },
   "outputs": [],
   "source": [
    "x = np.array([1, 2, 3])\n",
    "y = np.array([4, 5, 6])"
   ]
  },
  {
   "cell_type": "markdown",
   "id": "3ee62d19",
   "metadata": {},
   "source": [
    "**Element-wise operations**: Let $ z = x ? y $ for some operation $ ? $, one of\n",
    "the standard *binary* operations ($ +, -, \\times, \\div $). Then we can write\n",
    "$ z = \\begin{bmatrix} x_1 ? y_1 & x_2 ? y_2 \\end{bmatrix} $. Element-wise operations require\n",
    "that $ x $ and $ y $ have the same size."
   ]
  },
  {
   "cell_type": "code",
   "execution_count": 4,
   "id": "8cd9d225",
   "metadata": {
    "hide-output": false
   },
   "outputs": [
    {
     "name": "stdout",
     "output_type": "stream",
     "text": [
      "Element-wise Addition [5 7 9]\n",
      "Element-wise Subtraction [-3 -3 -3]\n",
      "Element-wise Multiplication [ 4 10 18]\n",
      "Element-wise Division [0.25 0.4  0.5 ]\n"
     ]
    }
   ],
   "source": [
    "print(\"Element-wise Addition\", x + y)\n",
    "print(\"Element-wise Subtraction\", x - y)\n",
    "print(\"Element-wise Multiplication\", x * y)\n",
    "print(\"Element-wise Division\", x / y)"
   ]
  },
  {
   "cell_type": "markdown",
   "id": "99e85d81",
   "metadata": {},
   "source": [
    "**Scalar operations**: Let $ w = a ? x $ for some operation $ ? $, one of the\n",
    "standard *binary* operations ($ +, -, \\times, \\div $). Then we can write\n",
    "$ w = \\begin{bmatrix} a ? x_1 & a ? x_2 \\end{bmatrix} $."
   ]
  },
  {
   "cell_type": "code",
   "execution_count": 5,
   "id": "d638fd75",
   "metadata": {
    "hide-output": false
   },
   "outputs": [
    {
     "name": "stdout",
     "output_type": "stream",
     "text": [
      "Scalar Addition [4 5 6]\n",
      "Scalar Subtraction [2 1 0]\n",
      "Scalar Multiplication [3 6 9]\n",
      "Scalar Division [3.  1.5 1. ]\n"
     ]
    }
   ],
   "source": [
    "print(\"Scalar Addition\", 3 + x)\n",
    "print(\"Scalar Subtraction\", 3 - x)\n",
    "print(\"Scalar Multiplication\", 3 * x)\n",
    "print(\"Scalar Division\", 3 / x)"
   ]
  },
  {
   "cell_type": "markdown",
   "id": "5f4957ab",
   "metadata": {},
   "source": [
    "Another operation very frequently used in data science is the **dot product**.\n",
    "\n",
    "The dot between $ x $ and $ y $ is written $ x \\cdot y $ and is\n",
    "equal to $ \\sum_{i=1}^N x_i y_i $."
   ]
  },
  {
   "cell_type": "code",
   "execution_count": 6,
   "id": "503fa32a",
   "metadata": {
    "hide-output": false
   },
   "outputs": [
    {
     "name": "stdout",
     "output_type": "stream",
     "text": [
      "Dot product is 32\n"
     ]
    }
   ],
   "source": [
    "print(\"Dot product is\", np.dot(x, y))"
   ]
  },
  {
   "cell_type": "markdown",
   "id": "6eead876",
   "metadata": {},
   "source": [
    "We can also use `@` to denote dot products (and matrix multiplication which we’ll see soon!)."
   ]
  },
  {
   "cell_type": "code",
   "execution_count": 7,
   "id": "c2843b5a",
   "metadata": {
    "hide-output": false
   },
   "outputs": [
    {
     "name": "stdout",
     "output_type": "stream",
     "text": [
      "Dot product using @ is 32\n"
     ]
    }
   ],
   "source": [
    "print(\"Dot product using @ is\", x @ y)"
   ]
  },
  {
   "cell_type": "markdown",
   "id": "3ad3540d",
   "metadata": {
    "tags": []
   },
   "source": [
    "### Matrices\n",
    "\n",
    "An $ N \\times M $ matrix can be thought of as a collection of M\n",
    "N-element vectors stacked side-by-side as columns.\n",
    "\n",
    "We write a matrix as\n",
    "\n",
    "$$\n",
    "\\begin{bmatrix} x_{11} & x_{12} & \\dots & x_{1M} \\\\\n",
    "                x_{21} & \\dots & \\dots & x_{2M} \\\\\n",
    "                \\vdots & \\vdots & \\vdots & \\vdots \\\\\n",
    "                x_{N1} & x_{N2} & \\dots & x_{NM}\n",
    "\\end{bmatrix}\n",
    "$$\n",
    "\n",
    "In numpy terms, a matrix is a 2-dimensional array.\n",
    "\n",
    "We can create a matrix by passing a list of lists to the `np.array` function."
   ]
  },
  {
   "cell_type": "code",
   "execution_count": 8,
   "id": "3df9ddea",
   "metadata": {
    "hide-output": false
   },
   "outputs": [],
   "source": [
    "x = np.array([[1, 2, 3], [4, 5, 6]])\n",
    "y = np.ones((2, 3))\n",
    "z = np.array([[1, 2], [3, 4], [5, 6]])"
   ]
  },
  {
   "cell_type": "markdown",
   "id": "b9c6e472",
   "metadata": {},
   "source": [
    "We can perform element-wise and scalar operations as we did with vectors. In fact, we can do\n",
    "these two operations on arrays of any dimension."
   ]
  },
  {
   "cell_type": "code",
   "execution_count": 9,
   "id": "7913a430",
   "metadata": {
    "hide-output": false
   },
   "outputs": [
    {
     "name": "stdout",
     "output_type": "stream",
     "text": [
      "Element-wise Addition\n",
      " [[2. 3. 4.]\n",
      " [5. 6. 7.]]\n",
      "Element-wise Subtraction\n",
      " [[0. 1. 2.]\n",
      " [3. 4. 5.]]\n",
      "Element-wise Multiplication\n",
      " [[1. 2. 3.]\n",
      " [4. 5. 6.]]\n",
      "Element-wise Division\n",
      " [[1. 2. 3.]\n",
      " [4. 5. 6.]]\n",
      "Scalar Addition\n",
      " [[4 5 6]\n",
      " [7 8 9]]\n",
      "Scalar Subtraction\n",
      " [[ 2  1  0]\n",
      " [-1 -2 -3]]\n",
      "Scalar Multiplication\n",
      " [[ 3  6  9]\n",
      " [12 15 18]]\n",
      "Scalar Division\n",
      " [[3.   1.5  1.  ]\n",
      " [0.75 0.6  0.5 ]]\n"
     ]
    }
   ],
   "source": [
    "print(\"Element-wise Addition\\n\", x + y)\n",
    "print(\"Element-wise Subtraction\\n\", x - y)\n",
    "print(\"Element-wise Multiplication\\n\", x * y)\n",
    "print(\"Element-wise Division\\n\", x / y)\n",
    "\n",
    "print(\"Scalar Addition\\n\", 3 + x)\n",
    "print(\"Scalar Subtraction\\n\", 3 - x)\n",
    "print(\"Scalar Multiplication\\n\", 3 * x)\n",
    "print(\"Scalar Division\\n\", 3 / x)"
   ]
  },
  {
   "cell_type": "markdown",
   "id": "c34305e1-5384-463a-8eab-133adf2613b7",
   "metadata": {},
   "source": [
    "Similar to how we combine vectors with a dot product, matrices can do what we’ll call *matrix multiplication*. Matrix multiplication is effectively a generalization of dot products.\n",
    "\n",
    "**Matrix multiplication**: \n",
    "\n",
    "Let $ v = x \\cdot y $ such that \n",
    "\n",
    "$$\n",
    "\\begin{bmatrix} v_{11} & v_{12} & \\dots & v_{1M} \\\\\n",
    "                v_{21} & \\dots & \\dots & v_{2M} \\\\\n",
    "                \\vdots & \\vdots & \\vdots & \\vdots \\\\\n",
    "                v_{L1} & v_{N2} & \\dots & v_{LM}\n",
    "\\end{bmatrix}\n",
    "=\n",
    "\\begin{bmatrix} x_{11} & x_{12} & \\dots & x_{1N} \\\\\n",
    "                x_{21} & \\dots & \\dots & x_{2N} \\\\\n",
    "                \\vdots & \\vdots & \\vdots & \\vdots \\\\\n",
    "                x_{L1} & x_{L2} & \\dots & x_{LN}\n",
    "\\end{bmatrix}\n",
    "\\begin{bmatrix} y_{11} & y_{12} & \\dots & y_{1M} \\\\\n",
    "                y_{21} & \\dots & \\dots & y_{2M} \\\\\n",
    "                \\vdots & \\vdots & \\vdots & \\vdots \\\\\n",
    "                y_{N1} & y_{N2} & \\dots & y_{NM}\n",
    "\\end{bmatrix}\n",
    "$$\n",
    "\n",
    "Then we can write\n",
    "$$ v_{ij} = x_{i1}y_{1j}+ x_{i2}y_{2j}+ \\cdots +x_{iN}y_{Nj} = \\sum_{k=1}^N x_{ik} y_{kj} $$ \n",
    "where $ v_{ij}, x_{ij}, y_{ij},  $ denotes the\n",
    "element found in the ith row and jth column of the matrix $ x, y, v, $ respectively.\n",
    "\n"
   ]
  },
  {
   "cell_type": "markdown",
   "id": "10ad8de1-ae6c-454a-b179-47b92cf02ab2",
   "metadata": {},
   "source": [
    "The image below from [Wikipedia](https://commons.wikimedia.org/wiki/File:Matrix_multiplication_diagram.svg),\n",
    "by Bilou, shows how matrix multiplication $AB$ simplifies to a series of dot products between a row of $A$ and a column of $B$:\n",
    "\n",
    "![https://datascience.quantecon.org/_static/mat_mult_wiki_bilou.png](https://datascience.quantecon.org/_static/mat_mult_wiki_bilou.png)\n",
    "\n",
    "  \n",
    "After looking at the math and image above, you might have realized that matrix\n",
    "multiplication requires very specific matrix shapes!\n",
    "\n",
    "For two matrices $ x, y $ to be multiplied, $ x $\n",
    "must have the same number of columns as $ y $ has rows.\n",
    "\n",
    "Formally, we require that for some integer numbers, $ M, N, $ and $ K $\n",
    "that if $ x $ is $ N \\times M $ then $ y $ must be $ M \\times\n",
    "K $.\n",
    "\n",
    "If we think of a vector as a $ 1 \\times M $ or $ M \\times 1 $ matrix, we can even do\n",
    "matrix multiplication between a matrix and a vector!\n",
    "\n",
    "Let’s see some examples of this."
   ]
  },
  {
   "cell_type": "code",
   "execution_count": 10,
   "id": "f9f28710",
   "metadata": {
    "hide-output": false
   },
   "outputs": [
    {
     "name": "stdout",
     "output_type": "stream",
     "text": [
      "x1 =\n",
      "[[0 1]\n",
      " [2 3]\n",
      " [4 5]]\n",
      "\n",
      "x4 =\n",
      "[[1. 1. 1.]\n",
      " [1. 1. 1.]]\n"
     ]
    }
   ],
   "source": [
    "x1 = np.reshape(np.arange(6), (3, 2))\n",
    "x4 = np.ones((2, 3))\n",
    "print(\"x1 =\", x1, sep=\"\\n\",end=\"\\n\\n\")\n",
    "print(\"x4 =\", x4, sep=\"\\n\")"
   ]
  },
  {
   "cell_type": "markdown",
   "id": "70fdfeff",
   "metadata": {},
   "source": [
    "Numpy allows us to do matrix multiplication in three ways."
   ]
  },
  {
   "cell_type": "code",
   "execution_count": 11,
   "id": "9f389423",
   "metadata": {
    "hide-output": false
   },
   "outputs": [
    {
     "name": "stdout",
     "output_type": "stream",
     "text": [
      "Using the matmul function, np.matmul(x1, x4), for the two matrices :\n",
      "[[1. 1. 1.]\n",
      " [5. 5. 5.]\n",
      " [9. 9. 9.]]\n",
      "\n",
      "Using the dot function, np.dot(x1, x4), for the matrices :\n",
      "[[1. 1. 1.]\n",
      " [5. 5. 5.]\n",
      " [9. 9. 9.]]\n",
      "\n",
      "Using @ for the matrices, x1 @ x4 :\n",
      "[[1. 1. 1.]\n",
      " [5. 5. 5.]\n",
      " [9. 9. 9.]]\n"
     ]
    }
   ],
   "source": [
    "print(\"Using the matmul function, np.matmul(x1, x4), for the two matrices :\")\n",
    "print(np.matmul(x1, x4),end=\"\\n\\n\")\n",
    "print(\"Using the dot function, np.dot(x1, x4), for the matrices :\")\n",
    "print(np.dot(x1, x4),end=\"\\n\\n\")\n",
    "print(\"Using @ for the matrices, x1 @ x4 :\")\n",
    "print(x1 @ x4)"
   ]
  },
  {
   "cell_type": "code",
   "execution_count": 12,
   "id": "2040fa06",
   "metadata": {
    "hide-output": false
   },
   "outputs": [
    {
     "name": "stdout",
     "output_type": "stream",
     "text": [
      "Using the matmul function for vec and mat, np.matmul(y1, x1) :\n",
      "[16 22]\n",
      "\n",
      "Using the dot function for vec and mat, np.dot(y1, x1) :\n",
      "[16 22]\n",
      "\n",
      "Using @ for vec and mat, y1 @ x1 :\n",
      "[16 22]\n"
     ]
    }
   ],
   "source": [
    "x1 = np.reshape(np.arange(6), (3, 2))\n",
    "y1 = np.array([1, 2, 3])\n",
    "\n",
    "print(\"Using the matmul function for vec and mat, np.matmul(y1, x1) :\")\n",
    "print(np.matmul(y1, x1),end=\"\\n\\n\")\n",
    "\n",
    "print(\"Using the dot function for vec and mat, np.dot(y1, x1) :\")\n",
    "print(np.dot(y1, x1), end=\"\\n\\n\")\n",
    "\n",
    "print(\"Using @ for vec and mat, y1 @ x1 :\")\n",
    "print(y1 @ x1)"
   ]
  },
  {
   "cell_type": "markdown",
   "id": "4cfea39b",
   "metadata": {},
   "source": [
    "Despite our options, we stick to using `@` because\n",
    "it is simplest to read and write."
   ]
  },
  {
   "cell_type": "markdown",
   "id": "4705408e-8eb3-43a5-b1c8-70562337d835",
   "metadata": {},
   "source": [
    "### Exercise\n",
    "\n",
    "Let"
   ]
  },
  {
   "cell_type": "code",
   "execution_count": 13,
   "id": "a2ea3951-df9c-4e19-868f-c18aeb527372",
   "metadata": {},
   "outputs": [],
   "source": [
    "x1 = np.reshape(np.arange(6), (3, 2))\n",
    "x2 = np.array([[1, 2], [3, 4], [5, 6], [7, 8]])\n",
    "x3 = np.array([[2, 5, 2], [1, 2, 1]])\n",
    "x4 = np.ones((2, 3))\n",
    "y1 = np.array([1, 2, 3])\n",
    "y2 = np.array([0.5, 0.5])"
   ]
  },
  {
   "cell_type": "markdown",
   "id": "40c6c0ba-6158-48f7-ace4-30a5a28fc0d0",
   "metadata": {},
   "source": [
    "Which of the following operations will work and which will\n",
    "create errors because of size issues?\n",
    "\n",
    "Test out your intuitions in the code cell below"
   ]
  },
  {
   "cell_type": "code",
   "execution_count": null,
   "id": "530222c2-a495-4f31-8e22-78044fe121fd",
   "metadata": {},
   "outputs": [],
   "source": [
    "x1 @ x2\n",
    "x2 @ x1\n",
    "x2 @ x3\n",
    "x3 @ x2\n",
    "x1 @ x3\n",
    "x4 @ y1\n",
    "x4 @ y2\n",
    "y1 @ x4\n",
    "y2 @ x4"
   ]
  },
  {
   "cell_type": "markdown",
   "id": "199f8b10",
   "metadata": {},
   "source": [
    "### Other Linear Algebra Concepts"
   ]
  },
  {
   "cell_type": "markdown",
   "id": "b866c837",
   "metadata": {},
   "source": [
    "#### Transpose\n",
    "\n",
    "A matrix transpose is an operation that flips all elements of a matrix along the diagonal.\n",
    "\n",
    "More formally, the $ (i, j) $ element of $ x $ becomes the $ (j, i) $ element of\n",
    "$ x^T $.\n",
    "\n",
    "In particular, let $ x $ be given by\n",
    "\n",
    "$$\n",
    "x = \\begin{bmatrix} 1 & 2 & 3 \\\\\n",
    "                    4 & 5 & 6 \\\\\n",
    "                    7 & 8 & 9 \\\\\n",
    "    \\end{bmatrix}\n",
    "$$\n",
    "\n",
    "then $ x $ transpose, written as $ x' $, is given by\n",
    "\n",
    "$$\n",
    "x = \\begin{bmatrix} 1 & 4 & 7 \\\\\n",
    "                    2 & 5 & 8 \\\\\n",
    "                    3 & 6 & 9 \\\\\n",
    "    \\end{bmatrix}\n",
    "$$\n",
    "\n",
    "In Python, we do this by"
   ]
  },
  {
   "cell_type": "code",
   "execution_count": 15,
   "id": "33ed68e6",
   "metadata": {
    "hide-output": false
   },
   "outputs": [
    {
     "name": "stdout",
     "output_type": "stream",
     "text": [
      "x transpose is\n",
      "[[1 4 7]\n",
      " [2 5 8]\n",
      " [3 6 9]]\n"
     ]
    }
   ],
   "source": [
    "x = np.array([[1, 2, 3], [4, 5, 6], [7, 8, 9]])\n",
    "\n",
    "print(\"x transpose is\")\n",
    "print(x.transpose())"
   ]
  },
  {
   "cell_type": "markdown",
   "id": "ef3e34d9",
   "metadata": {},
   "source": [
    "#### Identity Matrix\n",
    "\n",
    "In linear algebra, one particular matrix acts very similarly to how 1 behaves for scalar numbers.\n",
    "\n",
    "This matrix is known as the *identity matrix* and is given by\n",
    "\n",
    "$$\n",
    "I = \\begin{bmatrix} 1  & 0 & 0 & \\dots & 0 \\\\\n",
    "                    0 & 1 & 0 & \\dots & 0 \\\\\n",
    "                    \\vdots & \\vdots & \\ddots & \\vdots & \\vdots \\\\\n",
    "                    0 & 0 & 0 & \\dots & 1\n",
    "    \\end{bmatrix}\n",
    "$$\n",
    "\n",
    "As seen above, it has 1s on the diagonal and 0s everywhere else.\n",
    "\n",
    "When we multiply any matrix or vector by the identity matrix, we get the original matrix or vector\n",
    "back!\n",
    "\n",
    "Let’s see some examples."
   ]
  },
  {
   "cell_type": "code",
   "execution_count": 16,
   "id": "11a21771",
   "metadata": {
    "hide-output": false
   },
   "outputs": [
    {
     "name": "stdout",
     "output_type": "stream",
     "text": [
      "I @ x \n",
      " [[0. 1. 2.]\n",
      " [3. 4. 5.]\n",
      " [6. 7. 8.]]\n",
      "x @ I \n",
      " [[0. 1. 2.]\n",
      " [3. 4. 5.]\n",
      " [6. 7. 8.]]\n",
      "I @ y \n",
      " [1. 2. 3.]\n",
      "y @ I \n",
      " [1. 2. 3.]\n"
     ]
    }
   ],
   "source": [
    "I = np.eye(3)\n",
    "x = np.reshape(np.arange(9), (3, 3))\n",
    "y = np.array([1, 2, 3])\n",
    "\n",
    "print(\"I @ x\", \"\\n\", I @ x)\n",
    "print(\"x @ I\", \"\\n\", x @ I)\n",
    "print(\"I @ y\", \"\\n\", I @ y)\n",
    "print(\"y @ I\", \"\\n\", y @ I)"
   ]
  },
  {
   "cell_type": "markdown",
   "id": "dfd36828",
   "metadata": {},
   "source": [
    "#### Inverse\n",
    "\n",
    "If you recall, you learned in your primary education about solving equations for certain variables.\n",
    "\n",
    "For example, you might have been given the equation\n",
    "\n",
    "$$\n",
    "3x + 7 = 16\n",
    "$$\n",
    "\n",
    "and then asked to solve for $ x $.\n",
    "\n",
    "You probably did this by subtracting 7 and then dividing by 3.\n",
    "\n",
    "Now let’s write an equation that contains matrices and vectors.\n",
    "$$\n",
    "\\begin{align}\n",
    "    1 \\cdot x_1\\,+\\, 2\\cdot x_2 &= 3 \\\\\n",
    "    3 \\cdot x_1\\,+\\, 1\\cdot x_2 &= 4    \n",
    "\\end{align}\n",
    "$$\n",
    "which can be written as\n",
    "$$\n",
    "\\begin{bmatrix} 1 & 2 \\\\ 3 & 1 \\end{bmatrix} \\begin{bmatrix} x_1 \\\\ x_2 \\end{bmatrix} = \\begin{bmatrix} 3 \\\\ 4 \\end{bmatrix}\n",
    "$$\n",
    "\n",
    "How would we solve for $ x = \\begin{bmatrix} x_1 \\\\ x_2 \\end{bmatrix} $?\n",
    "\n",
    "Unfortunately, there is no “matrix divide” operation that does the opposite of matrix multiplication.\n",
    "\n",
    "Instead, we first have to do what’s known as finding the inverse. We must multiply both sides by this inverse to solve.\n",
    "\n",
    "Consider some matrix $ A $.\n",
    "\n",
    "The inverse of $ A $, given by $ A^{-1} $, is a matrix such that $ A A^{-1} = I $\n",
    "where $ I $ is our identity matrix.\n",
    "\n",
    "Notice in our equation above, if we can find the inverse of\n",
    "$ \\begin{bmatrix} 1 & 2 \\\\ 3 & 1 \\end{bmatrix} $ then we can multiply both sides by the inverse\n",
    "to get\n",
    "\n",
    "$$\n",
    "\\begin{align*}\n",
    "\\begin{bmatrix} 1 & 2 \\\\ 3 & 1 \\end{bmatrix}^{-1}\\begin{bmatrix} 1 & 2 \\\\ 3 & 1 \\end{bmatrix} \\begin{bmatrix} x_1 \\\\ x_2 \\end{bmatrix} &= \\begin{bmatrix} 1 & 2 \\\\ 3 & 1 \\end{bmatrix}^{-1}\\begin{bmatrix} 3 \\\\ 4 \\end{bmatrix} \\\\\n",
    "I \\begin{bmatrix} x_1 \\\\ x_2 \\end{bmatrix} &= \\begin{bmatrix} 1 & 2 \\\\ 3 & 1 \\end{bmatrix}^{-1} \\begin{bmatrix} 3 \\\\ 4 \\end{bmatrix} \\\\\n",
    " \\begin{bmatrix} x_1 \\\\ x_2 \\end{bmatrix} &= \\begin{bmatrix} 1 & 2 \\\\ 3 & 1 \\end{bmatrix}^{-1} \\begin{bmatrix} 3 \\\\ 4 \\end{bmatrix}\n",
    "\\end{align*}\n",
    "$$\n",
    "\n",
    "Computing the inverse requires that a matrix be square and satisfy some other conditions\n",
    "(non-singularity) that are beyond the scope of this lecture.\n",
    "\n",
    "We also skip the exact details of how this inverse is computed, but, if you are interested,\n",
    "you can visit the\n",
    "[QuantEcon Linear Algebra lecture](https://python.quantecon.org/linear_algebra.html)\n",
    "for more details.\n",
    "\n",
    "We demonstrate how to compute the inverse with numpy below."
   ]
  },
  {
   "cell_type": "code",
   "execution_count": 17,
   "id": "bd30ef2c",
   "metadata": {
    "hide-output": false
   },
   "outputs": [
    {
     "name": "stdout",
     "output_type": "stream",
     "text": [
      "This is A\n",
      "[[1 2 0]\n",
      " [3 1 0]\n",
      " [0 1 2]]\n",
      "\n",
      "This is A inverse\n",
      "[[-0.2  0.4  0. ]\n",
      " [ 0.6 -0.2  0. ]\n",
      " [-0.3  0.1  0.5]]\n",
      "\n",
      "This is A inverse times A\n",
      "[[1. 0. 0.]\n",
      " [0. 1. 0.]\n",
      " [0. 0. 1.]]\n"
     ]
    }
   ],
   "source": [
    "# This is a square (N x N) non-singular matrix\n",
    "A = np.array([[1, 2, 0], [3, 1, 0], [0, 1, 2]])\n",
    "\n",
    "print(\"This is A\")\n",
    "print(A)\n",
    "print()\n",
    "\n",
    "print(\"This is A inverse\")\n",
    "print(np.linalg.inv(A))\n",
    "print()\n",
    "\n",
    "print(\"This is A inverse times A\")\n",
    "print(np.linalg.inv(A) @ A)"
   ]
  },
  {
   "cell_type": "code",
   "execution_count": 18,
   "id": "1eeb1053-aa48-4279-9e45-54e52b559778",
   "metadata": {},
   "outputs": [
    {
     "name": "stdout",
     "output_type": "stream",
     "text": [
      "A = \n",
      "[[1 2]\n",
      " [3 1]]\n",
      "\n",
      "b = \n",
      "[3 4]\n",
      "\n",
      "A inverse is :\n",
      "[[-0.2  0.4]\n",
      " [ 0.6 -0.2]]\n",
      "\n",
      "This is the solution of Ax = b\n",
      "[1. 1.]\n"
     ]
    }
   ],
   "source": [
    "A = np.array([[1,2],[3,1]])\n",
    "b = np.array([3,4])\n",
    "\n",
    "print(\"A = \", A,sep=\"\\n\",end=\"\\n\\n\")\n",
    "print(\"b = \", b,sep=\"\\n\",end=\"\\n\\n\")      \n",
    "print(\"A inverse is :\", np.linalg.inv(A), sep= \"\\n\", end=\"\\n\\n\")\n",
    "\n",
    "print(\"This is the solution of Ax = b\")\n",
    "x = np.linalg.inv(A)@b\n",
    "print(x)"
   ]
  },
  {
   "cell_type": "markdown",
   "id": "28377371-5d35-45e0-94c6-604a8dab6f87",
   "metadata": {},
   "source": [
    "We can veriy that Ax is b:"
   ]
  },
  {
   "cell_type": "code",
   "execution_count": 19,
   "id": "d06413ff-789a-4a76-8c4c-827802567c13",
   "metadata": {},
   "outputs": [
    {
     "name": "stdout",
     "output_type": "stream",
     "text": [
      "[3. 4.]\n",
      "[3 4]\n"
     ]
    }
   ],
   "source": [
    "print(A@x)\n",
    "print(b)"
   ]
  },
  {
   "cell_type": "markdown",
   "id": "eaf15ab1-f925-4997-9403-59042e8c6bd8",
   "metadata": {},
   "source": [
    "It is faster to solve for x without the inverse of A"
   ]
  },
  {
   "cell_type": "code",
   "execution_count": 20,
   "id": "92a46d38-f19b-436d-bd21-579aff737fc7",
   "metadata": {},
   "outputs": [
    {
     "name": "stdout",
     "output_type": "stream",
     "text": [
      "[1. 1.]\n"
     ]
    }
   ],
   "source": [
    "x = np.linalg.solve(A,b)\n",
    "print(x)"
   ]
  },
  {
   "cell_type": "markdown",
   "id": "8eba92e7",
   "metadata": {},
   "source": [
    "## An example of dot product: Static Payoffs\n",
    "\n",
    "As an example, consider a portfolio with 4 units of asset A, 2.5 units of asset B, and 8 units of\n",
    "asset C.\n",
    "\n",
    "At a particular point in time, the assets pay $ 3 $/unit of asset A, $ 5 $/unit of B, and\n",
    "$ 1.10 $/unit of C.\n",
    "\n",
    "First, calculate the value of this portfolio directly with a sum."
   ]
  },
  {
   "cell_type": "code",
   "execution_count": 21,
   "id": "0397154f",
   "metadata": {
    "hide-output": false
   },
   "outputs": [
    {
     "data": {
      "text/plain": [
       "33.3"
      ]
     },
     "execution_count": 21,
     "metadata": {},
     "output_type": "execute_result"
    }
   ],
   "source": [
    "4.0 * 3.0 + 2.5 * 5.0 + 8 * 1.1"
   ]
  },
  {
   "cell_type": "markdown",
   "id": "a7ba1b65",
   "metadata": {},
   "source": [
    "We can make this more convenient and general by using arrays for accounting, and then sum then in a\n",
    "loop."
   ]
  },
  {
   "cell_type": "code",
   "execution_count": 22,
   "id": "f05281e8",
   "metadata": {
    "hide-output": false
   },
   "outputs": [
    {
     "data": {
      "text/plain": [
       "33.3"
      ]
     },
     "execution_count": 22,
     "metadata": {},
     "output_type": "execute_result"
    }
   ],
   "source": [
    "import numpy as np\n",
    "x = np.array([4.0, 2.5, 8.0]) # portfolio units\n",
    "y = np.array([3.0, 5.0, 1.1]) # payoffs\n",
    "n = len(x)\n",
    "p = 0.0\n",
    "for i in range(n): # i.e. 0, 1, 2\n",
    "    p = p + x[i] * y[i]\n",
    "\n",
    "p"
   ]
  },
  {
   "cell_type": "markdown",
   "id": "e4eb2ef7",
   "metadata": {},
   "source": [
    "The above would have worked with `x` and `y` as `list` rather than `np.array`.\n",
    "\n",
    "Note that the general pattern above is the sum.\n",
    "\n",
    "$$\n",
    "p = \\sum_{i=0}^{n-1} x_i y_i = x \\cdot y\n",
    "$$\n",
    "\n",
    "This is an inner product as implemented by the `np.dot` function"
   ]
  },
  {
   "cell_type": "code",
   "execution_count": 23,
   "id": "4cc04cde",
   "metadata": {
    "hide-output": false
   },
   "outputs": [
    {
     "data": {
      "text/plain": [
       "33.3"
      ]
     },
     "execution_count": 23,
     "metadata": {},
     "output_type": "execute_result"
    }
   ],
   "source": [
    "np.dot(x, y)"
   ]
  },
  {
   "cell_type": "markdown",
   "id": "850e5a5e",
   "metadata": {},
   "source": [
    "This approach allows us to simultaneously price different portfolios by stacking them in a matrix and using the dot product."
   ]
  },
  {
   "cell_type": "code",
   "execution_count": 24,
   "id": "aa3e034f",
   "metadata": {
    "hide-output": false
   },
   "outputs": [
    {
     "name": "stdout",
     "output_type": "stream",
     "text": [
      "Calculating separately\n",
      "[33.3, 13.5]\n",
      "Calculating with matrices\n",
      "[33.3 13.5]\n"
     ]
    }
   ],
   "source": [
    "y = np.array([3.0, 5.0, 1.1]) # payoffs\n",
    "x1 = np.array([4.0, 2.5, 8.0]) # portfolio 1\n",
    "x2 = np.array([2.0, 1.5, 0.0]) # portfolio 2\n",
    "X = np.array((x1, x2))\n",
    "\n",
    "# calculate with inner products\n",
    "p1 = np.dot(X[0,:], y)\n",
    "p2 = np.dot(X[1,:], y)\n",
    "print(\"Calculating separately\")\n",
    "print([p1, p2])\n",
    "\n",
    "# or with a matrix multiplication\n",
    "print(\"Calculating with matrices\")\n",
    "P = X @ y\n",
    "print(P)"
   ]
  }
 ],
 "metadata": {
  "date": 1627429659.1534576,
  "filename": "applied_linalg.md",
  "kernelspec": {
   "display_name": "Python 3 (ipykernel)",
   "language": "python",
   "name": "python3"
  },
  "language_info": {
   "codemirror_mode": {
    "name": "ipython",
    "version": 3
   },
   "file_extension": ".py",
   "mimetype": "text/x-python",
   "name": "python",
   "nbconvert_exporter": "python",
   "pygments_lexer": "ipython3",
   "version": "3.7.10"
  },
  "title": "Applied Linear Algebra"
 },
 "nbformat": 4,
 "nbformat_minor": 5
}
