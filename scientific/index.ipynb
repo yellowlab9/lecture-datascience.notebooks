{
 "cells": [
  {
   "cell_type": "markdown",
   "id": "10454c15",
   "metadata": {},
   "source": [
    "# Scientific Computing\n",
    "\n",
    "This section discusses several key aspects of scientific computing that enable modern economics, data science, and statistics.\n",
    "\n",
    "As the size of our data and the complexity of our models have increased (and continue doing so), we have become more reliant on computers to perform computations that we simply cannot do by hand.\n",
    "\n",
    "In this section, we will cover\n",
    "\n",
    "- Python’s main numerical library numpy and how to work with its array type.  \n",
    "- A basic introduction to visualizing data with matplotlib.  \n",
    "- A refresher on some key linear algebra concepts.  \n",
    "- A review of basic probability concepts and how to use simulation in learning economics.  \n",
    "- Using a computer to perform optimization.  \n",
    "\n",
    "\n",
    "Many of the tools learned in this section will continue to show up throughout the\n",
    "[pandas](https://datascience.quantecon.org/../pandas/index.html) and [applications](https://datascience.quantecon.org/../applications/index.html) sections.\n",
    "\n",
    "This section has more formal math than the previous material (and there will be more\n",
    "math as you cover certain methods).\n",
    "\n",
    "We expect that students’ mathematical backgrounds will range widely, so for those who have slightly less preparation, please don’t let this scare you.\n",
    "\n",
    "We have found that although understanding these tools will require some extra effort, it will give you a leg up in almost any career you might consider."
   ]
  },
  {
   "cell_type": "markdown",
   "id": "0fd44fa3",
   "metadata": {},
   "source": [
    "##  [Introduction to Numpy](/numpy_arrays.ipynb)"
   ]
  },
  {
   "cell_type": "markdown",
   "id": "41399294",
   "metadata": {},
   "source": [
    "##  [Plotting](plotting.ipynb)"
   ]
  },
  {
   "cell_type": "markdown",
   "id": "aef6a0e2",
   "metadata": {},
   "source": [
    "##  [Applied Linear Algebra](applied_linalg.ipynb)"
   ]
  },
  {
   "cell_type": "markdown",
   "id": "ee4b04b3",
   "metadata": {},
   "source": [
    "##  [Randomness](randomness.ipynb)"
   ]
  },
  {
   "cell_type": "markdown",
   "id": "997a8841",
   "metadata": {},
   "source": [
    "##  [Optimization](optimization.ipynb)"
   ]
  }
 ],
 "metadata": {
  "date": 1627429659.183028,
  "filename": "index.md",
  "kernelspec": {
   "display_name": "Python 3",
   "language": "python",
   "name": "python3"
  },
  "language_info": {
   "codemirror_mode": {
    "name": "ipython",
    "version": 3
   },
   "file_extension": ".py",
   "mimetype": "text/x-python",
   "name": "python",
   "nbconvert_exporter": "python",
   "pygments_lexer": "ipython3",
   "version": "3.7.10"
  },
  "title": "Scientific Computing"
 },
 "nbformat": 4,
 "nbformat_minor": 5
}
