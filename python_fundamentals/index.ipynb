{
 "cells": [
  {
   "cell_type": "markdown",
   "id": "8f5e6306",
   "metadata": {},
   "source": [
    "# Python Fundamentals\n",
    "\n",
    "In this section, we begin with the basics.\n",
    "\n",
    "We will talk about what a programming language is and how computers use\n",
    "them to perform operations.\n",
    "\n",
    "We discuss why we chose the Python language for this course.\n",
    "\n",
    "We learn about core concepts like variables, data-types, and\n",
    "functions.\n",
    "\n",
    "We will become familiar with the core data-types built into Python,\n",
    "some standard functions we will frequently use, and learn how to define our own functions.\n",
    "\n",
    "By the end, you should have a solid grasp on core Python\n",
    "concepts, be prepared to study the next sections on numerical programming,\n",
    "and feel comfortable handling data."
   ]
  },
  {
   "cell_type": "markdown",
   "id": "37f89b5b",
   "metadata": {},
   "source": [
    "##   [Basics](https://datascience.quantecon.org/python_fundamentals/basics.html)"
   ]
  },
  {
   "cell_type": "markdown",
   "id": "dbe070dd",
   "metadata": {},
   "source": [
    "##   [Collections](https://datascience.quantecon.org/python_fundamentals/collections.html)"
   ]
  },
  {
   "cell_type": "markdown",
   "id": "227d4f17",
   "metadata": {},
   "source": [
    "##   [Control Flow](https://datascience.quantecon.org/python_fundamentals/control_flow.html)"
   ]
  },
  {
   "cell_type": "markdown",
   "id": "490123dd",
   "metadata": {},
   "source": [
    "##   [Functions](https://datascience.quantecon.org/python_fundamentals/functions.html)"
   ]
  }
 ],
 "metadata": {
  "date": 1627429659.0736082,
  "filename": "index.md",
  "kernelspec": {
   "display_name": "Python 3",
   "language": "python",
   "name": "python3"
  },
  "language_info": {
   "codemirror_mode": {
    "name": "ipython",
    "version": 3
   },
   "file_extension": ".py",
   "mimetype": "text/x-python",
   "name": "python",
   "nbconvert_exporter": "python",
   "pygments_lexer": "ipython3",
   "version": "3.7.10"
  },
  "title": "Python Fundamentals"
 },
 "nbformat": 4,
 "nbformat_minor": 5
}
