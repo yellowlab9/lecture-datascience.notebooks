{
  "nbformat": 4,
  "nbformat_minor": 0,
  "metadata": {
    "kernelspec": {
      "display_name": "Python 3",
      "language": "python",
      "name": "python3"
    },
    "language_info": {
      "codemirror_mode": {
        "name": "ipython",
        "version": 3
      },
      "file_extension": ".py",
      "mimetype": "text/x-python",
      "name": "python",
      "nbconvert_exporter": "python",
      "pygments_lexer": "ipython3",
      "version": "3.8.11"
    },
    "colab": {
      "name": "Ch10-1-Files-r1.ipynb",
      "provenance": [],
      "collapsed_sections": []
    }
  },
  "cells": [
    {
      "cell_type": "markdown",
      "metadata": {
        "id": "uLaJn1INV9Nb"
      },
      "source": [
        "# Files Input/Output\n",
        "<a href=\"https://colab.research.google.com/github/rambasnet/FDSPython-Notebooks/blob/master/Ch10-Files.ipynb\" target=\"_parent\"><img src=\"https://colab.research.google.com/assets/colab-badge.svg\" alt=\"Open In Colab\"/></a>\n",
        "\n",
        "- data is usually stored in secondary storage medium such as hard drive, flash drive, cd-rw, etc. using named locations called files\n",
        "- files can be organized into folders\n",
        "- programs often need to read data from files and save data back to files for long-term storage\n",
        "- this chapter demostrates how to read and write plain text files\n",
        "- use open() built-in function to work with files\n",
        "```python\n",
        "fileio = open(fileName, mode='r')\n",
        "```\n",
        "- `open()` let's you open file in different mode to read (default), write, append, etc.\n",
        "- see help(open) for details\n",
        "\n",
        "#### File I/O can only read and write string data"
      ]
    },
    {
      "cell_type": "code",
      "metadata": {
        "id": "UzhubCqWV9Ne",
        "colab": {
          "base_uri": "https://localhost:8080/"
        },
        "outputId": "2dcd5fd8-fdba-43ce-de33-eb7f31e8a422"
      },
      "source": [
        "help(open)"
      ],
      "execution_count": 1,
      "outputs": [
        {
          "output_type": "stream",
          "name": "stdout",
          "text": [
            "Help on built-in function open in module io:\n",
            "\n",
            "open(file, mode='r', buffering=-1, encoding=None, errors=None, newline=None, closefd=True, opener=None)\n",
            "    Open file and return a stream.  Raise OSError upon failure.\n",
            "    \n",
            "    file is either a text or byte string giving the name (and the path\n",
            "    if the file isn't in the current working directory) of the file to\n",
            "    be opened or an integer file descriptor of the file to be\n",
            "    wrapped. (If a file descriptor is given, it is closed when the\n",
            "    returned I/O object is closed, unless closefd is set to False.)\n",
            "    \n",
            "    mode is an optional string that specifies the mode in which the file\n",
            "    is opened. It defaults to 'r' which means open for reading in text\n",
            "    mode.  Other common values are 'w' for writing (truncating the file if\n",
            "    it already exists), 'x' for creating and writing to a new file, and\n",
            "    'a' for appending (which on some Unix systems, means that all writes\n",
            "    append to the end of the file regardless of the current seek position).\n",
            "    In text mode, if encoding is not specified the encoding used is platform\n",
            "    dependent: locale.getpreferredencoding(False) is called to get the\n",
            "    current locale encoding. (For reading and writing raw bytes use binary\n",
            "    mode and leave encoding unspecified.) The available modes are:\n",
            "    \n",
            "    ========= ===============================================================\n",
            "    Character Meaning\n",
            "    --------- ---------------------------------------------------------------\n",
            "    'r'       open for reading (default)\n",
            "    'w'       open for writing, truncating the file first\n",
            "    'x'       create a new file and open it for writing\n",
            "    'a'       open for writing, appending to the end of the file if it exists\n",
            "    'b'       binary mode\n",
            "    't'       text mode (default)\n",
            "    '+'       open a disk file for updating (reading and writing)\n",
            "    'U'       universal newline mode (deprecated)\n",
            "    ========= ===============================================================\n",
            "    \n",
            "    The default mode is 'rt' (open for reading text). For binary random\n",
            "    access, the mode 'w+b' opens and truncates the file to 0 bytes, while\n",
            "    'r+b' opens the file without truncation. The 'x' mode implies 'w' and\n",
            "    raises an `FileExistsError` if the file already exists.\n",
            "    \n",
            "    Python distinguishes between files opened in binary and text modes,\n",
            "    even when the underlying operating system doesn't. Files opened in\n",
            "    binary mode (appending 'b' to the mode argument) return contents as\n",
            "    bytes objects without any decoding. In text mode (the default, or when\n",
            "    't' is appended to the mode argument), the contents of the file are\n",
            "    returned as strings, the bytes having been first decoded using a\n",
            "    platform-dependent encoding or using the specified encoding if given.\n",
            "    \n",
            "    'U' mode is deprecated and will raise an exception in future versions\n",
            "    of Python.  It has no effect in Python 3.  Use newline to control\n",
            "    universal newlines mode.\n",
            "    \n",
            "    buffering is an optional integer used to set the buffering policy.\n",
            "    Pass 0 to switch buffering off (only allowed in binary mode), 1 to select\n",
            "    line buffering (only usable in text mode), and an integer > 1 to indicate\n",
            "    the size of a fixed-size chunk buffer.  When no buffering argument is\n",
            "    given, the default buffering policy works as follows:\n",
            "    \n",
            "    * Binary files are buffered in fixed-size chunks; the size of the buffer\n",
            "      is chosen using a heuristic trying to determine the underlying device's\n",
            "      \"block size\" and falling back on `io.DEFAULT_BUFFER_SIZE`.\n",
            "      On many systems, the buffer will typically be 4096 or 8192 bytes long.\n",
            "    \n",
            "    * \"Interactive\" text files (files for which isatty() returns True)\n",
            "      use line buffering.  Other text files use the policy described above\n",
            "      for binary files.\n",
            "    \n",
            "    encoding is the name of the encoding used to decode or encode the\n",
            "    file. This should only be used in text mode. The default encoding is\n",
            "    platform dependent, but any encoding supported by Python can be\n",
            "    passed.  See the codecs module for the list of supported encodings.\n",
            "    \n",
            "    errors is an optional string that specifies how encoding errors are to\n",
            "    be handled---this argument should not be used in binary mode. Pass\n",
            "    'strict' to raise a ValueError exception if there is an encoding error\n",
            "    (the default of None has the same effect), or pass 'ignore' to ignore\n",
            "    errors. (Note that ignoring encoding errors can lead to data loss.)\n",
            "    See the documentation for codecs.register or run 'help(codecs.Codec)'\n",
            "    for a list of the permitted encoding error strings.\n",
            "    \n",
            "    newline controls how universal newlines works (it only applies to text\n",
            "    mode). It can be None, '', '\\n', '\\r', and '\\r\\n'.  It works as\n",
            "    follows:\n",
            "    \n",
            "    * On input, if newline is None, universal newlines mode is\n",
            "      enabled. Lines in the input can end in '\\n', '\\r', or '\\r\\n', and\n",
            "      these are translated into '\\n' before being returned to the\n",
            "      caller. If it is '', universal newline mode is enabled, but line\n",
            "      endings are returned to the caller untranslated. If it has any of\n",
            "      the other legal values, input lines are only terminated by the given\n",
            "      string, and the line ending is returned to the caller untranslated.\n",
            "    \n",
            "    * On output, if newline is None, any '\\n' characters written are\n",
            "      translated to the system default line separator, os.linesep. If\n",
            "      newline is '' or '\\n', no translation takes place. If newline is any\n",
            "      of the other legal values, any '\\n' characters written are translated\n",
            "      to the given string.\n",
            "    \n",
            "    If closefd is False, the underlying file descriptor will be kept open\n",
            "    when the file is closed. This does not work when a file name is given\n",
            "    and must be True in that case.\n",
            "    \n",
            "    A custom opener can be used by passing a callable as *opener*. The\n",
            "    underlying file descriptor for the file object is then obtained by\n",
            "    calling *opener* with (*file*, *flags*). *opener* must return an open\n",
            "    file descriptor (passing os.open as *opener* results in functionality\n",
            "    similar to passing None).\n",
            "    \n",
            "    open() returns a file object whose type depends on the mode, and\n",
            "    through which the standard file operations such as reading and writing\n",
            "    are performed. When open() is used to open a file in a text mode ('w',\n",
            "    'r', 'wt', 'rt', etc.), it returns a TextIOWrapper. When used to open\n",
            "    a file in a binary mode, the returned class varies: in read binary\n",
            "    mode, it returns a BufferedReader; in write binary and append binary\n",
            "    modes, it returns a BufferedWriter, and in read/write mode, it returns\n",
            "    a BufferedRandom.\n",
            "    \n",
            "    It is also possible to use a string or bytearray as a file for both\n",
            "    reading and writing. For strings StringIO can be used like a file\n",
            "    opened in a text mode, and for bytes a BytesIO can be used like a file\n",
            "    opened in a binary mode.\n",
            "\n"
          ]
        }
      ]
    },
    {
      "cell_type": "markdown",
      "metadata": {
        "id": "lrWPpHuXV9Nf"
      },
      "source": [
        "## write text data to a file\n",
        "- 3-step process\n",
        "\n",
        "1. open file with a name in write 'w' or 'a' mode\n",
        "2. write data\n",
        "3. close file"
      ]
    },
    {
      "cell_type": "code",
      "metadata": {
        "id": "V618-NCmV9Ng",
        "colab": {
          "base_uri": "https://localhost:8080/"
        },
        "outputId": "c53cbe1c-e076-46a2-9578-8fac98ec46fd"
      },
      "source": [
        "# old school - not preferred!!\n",
        "fw = open('test1.txt', 'w') # w is for write mode\n",
        "fw.write('words\\n=====\\n')\n",
        "fw.write('apple\\nball\\ncat\\ndog\\n')\n",
        "print(fw.write('zebra\\n'))\n",
        "fw.close() #must close the file to actually write data\n",
        "# to the secondoary storage"
      ],
      "execution_count": 2,
      "outputs": [
        {
          "output_type": "stream",
          "name": "stdout",
          "text": [
            "6\n"
          ]
        }
      ]
    },
    {
      "cell_type": "code",
      "metadata": {
        "id": "8MrEgSGcWoTt",
        "colab": {
          "base_uri": "https://localhost:8080/"
        },
        "outputId": "350b9009-ba97-454e-f842-49d00ab75ae9"
      },
      "source": [
        "!ls"
      ],
      "execution_count": 3,
      "outputs": [
        {
          "output_type": "stream",
          "name": "stdout",
          "text": [
            "sample_data  test1.txt\n"
          ]
        }
      ]
    },
    {
      "cell_type": "code",
      "metadata": {
        "id": "6oy8E_XVWqjf",
        "colab": {
          "base_uri": "https://localhost:8080/"
        },
        "outputId": "c89190e6-0e51-468e-fc5d-ec2099cbfb99"
      },
      "source": [
        "!cat test1.txt"
      ],
      "execution_count": 4,
      "outputs": [
        {
          "output_type": "stream",
          "name": "stdout",
          "text": [
            "words\n",
            "=====\n",
            "apple\n",
            "ball\n",
            "cat\n",
            "dog\n",
            "zebra\n"
          ]
        }
      ]
    },
    {
      "cell_type": "code",
      "metadata": {
        "id": "yuBwscY2V9Nh",
        "colab": {
          "base_uri": "https://localhost:8080/"
        },
        "outputId": "df87b8e3-15f5-405b-c140-5a6b082ac92b"
      },
      "source": [
        "help(fw)"
      ],
      "execution_count": 5,
      "outputs": [
        {
          "output_type": "stream",
          "name": "stdout",
          "text": [
            "Help on TextIOWrapper object:\n",
            "\n",
            "class TextIOWrapper(_TextIOBase)\n",
            " |  TextIOWrapper(buffer, encoding=None, errors=None, newline=None, line_buffering=False, write_through=False)\n",
            " |  \n",
            " |  Character and line based layer over a BufferedIOBase object, buffer.\n",
            " |  \n",
            " |  encoding gives the name of the encoding that the stream will be\n",
            " |  decoded or encoded with. It defaults to locale.getpreferredencoding(False).\n",
            " |  \n",
            " |  errors determines the strictness of encoding and decoding (see\n",
            " |  help(codecs.Codec) or the documentation for codecs.register) and\n",
            " |  defaults to \"strict\".\n",
            " |  \n",
            " |  newline controls how line endings are handled. It can be None, '',\n",
            " |  '\\n', '\\r', and '\\r\\n'.  It works as follows:\n",
            " |  \n",
            " |  * On input, if newline is None, universal newlines mode is\n",
            " |    enabled. Lines in the input can end in '\\n', '\\r', or '\\r\\n', and\n",
            " |    these are translated into '\\n' before being returned to the\n",
            " |    caller. If it is '', universal newline mode is enabled, but line\n",
            " |    endings are returned to the caller untranslated. If it has any of\n",
            " |    the other legal values, input lines are only terminated by the given\n",
            " |    string, and the line ending is returned to the caller untranslated.\n",
            " |  \n",
            " |  * On output, if newline is None, any '\\n' characters written are\n",
            " |    translated to the system default line separator, os.linesep. If\n",
            " |    newline is '' or '\\n', no translation takes place. If newline is any\n",
            " |    of the other legal values, any '\\n' characters written are translated\n",
            " |    to the given string.\n",
            " |  \n",
            " |  If line_buffering is True, a call to flush is implied when a call to\n",
            " |  write contains a newline character.\n",
            " |  \n",
            " |  Method resolution order:\n",
            " |      TextIOWrapper\n",
            " |      _TextIOBase\n",
            " |      _IOBase\n",
            " |      builtins.object\n",
            " |  \n",
            " |  Methods defined here:\n",
            " |  \n",
            " |  __getstate__(...)\n",
            " |  \n",
            " |  __init__(self, /, *args, **kwargs)\n",
            " |      Initialize self.  See help(type(self)) for accurate signature.\n",
            " |  \n",
            " |  __next__(self, /)\n",
            " |      Implement next(self).\n",
            " |  \n",
            " |  __repr__(self, /)\n",
            " |      Return repr(self).\n",
            " |  \n",
            " |  close(self, /)\n",
            " |      Flush and close the IO object.\n",
            " |      \n",
            " |      This method has no effect if the file is already closed.\n",
            " |  \n",
            " |  detach(self, /)\n",
            " |      Separate the underlying buffer from the TextIOBase and return it.\n",
            " |      \n",
            " |      After the underlying buffer has been detached, the TextIO is in an\n",
            " |      unusable state.\n",
            " |  \n",
            " |  fileno(self, /)\n",
            " |      Returns underlying file descriptor if one exists.\n",
            " |      \n",
            " |      OSError is raised if the IO object does not use a file descriptor.\n",
            " |  \n",
            " |  flush(self, /)\n",
            " |      Flush write buffers, if applicable.\n",
            " |      \n",
            " |      This is not implemented for read-only and non-blocking streams.\n",
            " |  \n",
            " |  isatty(self, /)\n",
            " |      Return whether this is an 'interactive' stream.\n",
            " |      \n",
            " |      Return False if it can't be determined.\n",
            " |  \n",
            " |  read(self, size=-1, /)\n",
            " |      Read at most n characters from stream.\n",
            " |      \n",
            " |      Read from underlying buffer until we have n characters or we hit EOF.\n",
            " |      If n is negative or omitted, read until EOF.\n",
            " |  \n",
            " |  readable(self, /)\n",
            " |      Return whether object was opened for reading.\n",
            " |      \n",
            " |      If False, read() will raise OSError.\n",
            " |  \n",
            " |  readline(self, size=-1, /)\n",
            " |      Read until newline or EOF.\n",
            " |      \n",
            " |      Returns an empty string if EOF is hit immediately.\n",
            " |  \n",
            " |  reconfigure(self, /, *, encoding=None, errors=None, newline=None, line_buffering=None, write_through=None)\n",
            " |      Reconfigure the text stream with new parameters.\n",
            " |      \n",
            " |      This also does an implicit stream flush.\n",
            " |  \n",
            " |  seek(self, cookie, whence=0, /)\n",
            " |      Change stream position.\n",
            " |      \n",
            " |      Change the stream position to the given byte offset. The offset is\n",
            " |      interpreted relative to the position indicated by whence.  Values\n",
            " |      for whence are:\n",
            " |      \n",
            " |      * 0 -- start of stream (the default); offset should be zero or positive\n",
            " |      * 1 -- current stream position; offset may be negative\n",
            " |      * 2 -- end of stream; offset is usually negative\n",
            " |      \n",
            " |      Return the new absolute position.\n",
            " |  \n",
            " |  seekable(self, /)\n",
            " |      Return whether object supports random access.\n",
            " |      \n",
            " |      If False, seek(), tell() and truncate() will raise OSError.\n",
            " |      This method may need to do a test seek().\n",
            " |  \n",
            " |  tell(self, /)\n",
            " |      Return current stream position.\n",
            " |  \n",
            " |  truncate(self, pos=None, /)\n",
            " |      Truncate file to size bytes.\n",
            " |      \n",
            " |      File pointer is left unchanged.  Size defaults to the current IO\n",
            " |      position as reported by tell().  Returns the new size.\n",
            " |  \n",
            " |  writable(self, /)\n",
            " |      Return whether object was opened for writing.\n",
            " |      \n",
            " |      If False, write() will raise OSError.\n",
            " |  \n",
            " |  write(self, text, /)\n",
            " |      Write string to stream.\n",
            " |      Returns the number of characters written (which is always equal to\n",
            " |      the length of the string).\n",
            " |  \n",
            " |  ----------------------------------------------------------------------\n",
            " |  Static methods defined here:\n",
            " |  \n",
            " |  __new__(*args, **kwargs) from builtins.type\n",
            " |      Create and return a new object.  See help(type) for accurate signature.\n",
            " |  \n",
            " |  ----------------------------------------------------------------------\n",
            " |  Data descriptors defined here:\n",
            " |  \n",
            " |  buffer\n",
            " |  \n",
            " |  closed\n",
            " |  \n",
            " |  encoding\n",
            " |      Encoding of the text stream.\n",
            " |      \n",
            " |      Subclasses should override.\n",
            " |  \n",
            " |  errors\n",
            " |      The error setting of the decoder or encoder.\n",
            " |      \n",
            " |      Subclasses should override.\n",
            " |  \n",
            " |  line_buffering\n",
            " |  \n",
            " |  name\n",
            " |  \n",
            " |  newlines\n",
            " |      Line endings translated so far.\n",
            " |      \n",
            " |      Only line endings translated during reading are considered.\n",
            " |      \n",
            " |      Subclasses should override.\n",
            " |  \n",
            " |  write_through\n",
            " |  \n",
            " |  ----------------------------------------------------------------------\n",
            " |  Methods inherited from _IOBase:\n",
            " |  \n",
            " |  __del__(...)\n",
            " |  \n",
            " |  __enter__(...)\n",
            " |  \n",
            " |  __exit__(...)\n",
            " |  \n",
            " |  __iter__(self, /)\n",
            " |      Implement iter(self).\n",
            " |  \n",
            " |  readlines(self, hint=-1, /)\n",
            " |      Return a list of lines from the stream.\n",
            " |      \n",
            " |      hint can be specified to control the number of lines read: no more\n",
            " |      lines will be read if the total size (in bytes/characters) of all\n",
            " |      lines so far exceeds hint.\n",
            " |  \n",
            " |  writelines(self, lines, /)\n",
            " |      Write a list of lines to stream.\n",
            " |      \n",
            " |      Line separators are not added, so it is usual for each of the\n",
            " |      lines provided to have a line separator at the end.\n",
            " |  \n",
            " |  ----------------------------------------------------------------------\n",
            " |  Data descriptors inherited from _IOBase:\n",
            " |  \n",
            " |  __dict__\n",
            "\n"
          ]
        }
      ]
    },
    {
      "cell_type": "code",
      "metadata": {
        "id": "2TazV3SmV9Nh"
      },
      "source": [
        "# newer and better syntax - preferred way!!\n",
        "alist = [1, 2, 3]\n",
        "with open('words.txt', 'w') as fout:\n",
        "    fout.write('apple\\nball\\ncat\\ndog\\n')\n",
        "    fout.write('elephant\\n')\n",
        "    fout.write('zebra\\n')\n",
        "    fout.write(str(1))\n",
        "    fout.write('\\n')\n",
        "    fout.write(str(alist))\n",
        "    \n",
        "\n",
        "# file will be automatically closed when with block is finished executing\n",
        "# fout.write('test\\n') # this will not be written as the file is closed; and throws I/O error"
      ],
      "execution_count": 6,
      "outputs": []
    },
    {
      "cell_type": "code",
      "metadata": {
        "id": "WQYDaMwKZP9x",
        "colab": {
          "base_uri": "https://localhost:8080/"
        },
        "outputId": "1404ad32-b8c8-4d56-835f-68c8baa521c6"
      },
      "source": [
        "!ls\n"
      ],
      "execution_count": 7,
      "outputs": [
        {
          "output_type": "stream",
          "name": "stdout",
          "text": [
            "sample_data  test1.txt\twords.txt\n"
          ]
        }
      ]
    },
    {
      "cell_type": "code",
      "metadata": {
        "id": "v53U1BkuZSVA",
        "colab": {
          "base_uri": "https://localhost:8080/"
        },
        "outputId": "d09b70f7-39fc-4aba-ce15-f061388b7470"
      },
      "source": [
        "!cat words.txt"
      ],
      "execution_count": 8,
      "outputs": [
        {
          "output_type": "stream",
          "name": "stdout",
          "text": [
            "apple\n",
            "ball\n",
            "cat\n",
            "dog\n",
            "elephant\n",
            "zebra\n",
            "1\n",
            "[1, 2, 3]"
          ]
        }
      ]
    },
    {
      "cell_type": "markdown",
      "metadata": {
        "id": "jRFAfRpAV9Ni"
      },
      "source": [
        "## read text data from a file\n",
        "1. open file with its name; can provide relative or absolute path\n",
        "2. read in various ways; one line at a time, all lines, bytes, whole file, etc.\n",
        "3. use data\n",
        "4. close file\n",
        "\n",
        "### various ways to read data\n",
        "1. `read(size=-1)` : read at most size characters from stream or EOF (End of File) marker\n",
        "2. `readline()` : read until newline or EOF marker\n",
        "3. `readlines()` : read and return a list of lines from the input file"
      ]
    },
    {
      "cell_type": "code",
      "metadata": {
        "id": "sgGymR5bV9Nj"
      },
      "source": [
        "# read whole file as list of lines\n",
        "fr = open('words.txt', 'r') # 'r' or read mode by default; file must exist\n",
        "data = fr.readlines()\n",
        "fr.close()"
      ],
      "execution_count": 9,
      "outputs": []
    },
    {
      "cell_type": "code",
      "metadata": {
        "id": "SG55YlhwZ5pU",
        "colab": {
          "base_uri": "https://localhost:8080/"
        },
        "outputId": "93676986-31c5-475b-a3ae-b75cbb618e40"
      },
      "source": [
        "data"
      ],
      "execution_count": 10,
      "outputs": [
        {
          "output_type": "execute_result",
          "data": {
            "text/plain": [
              "['apple\\n',\n",
              " 'ball\\n',\n",
              " 'cat\\n',\n",
              " 'dog\\n',\n",
              " 'elephant\\n',\n",
              " 'zebra\\n',\n",
              " '1\\n',\n",
              " '[1, 2, 3]']"
            ]
          },
          "metadata": {},
          "execution_count": 10
        }
      ]
    },
    {
      "cell_type": "code",
      "metadata": {
        "id": "CDrjC__XaFek",
        "colab": {
          "base_uri": "https://localhost:8080/",
          "height": 35
        },
        "outputId": "1ca73546-f08b-4dc0-b363-0b93fcc374fa"
      },
      "source": [
        "data[0]"
      ],
      "execution_count": 11,
      "outputs": [
        {
          "output_type": "execute_result",
          "data": {
            "application/vnd.google.colaboratory.intrinsic+json": {
              "type": "string"
            },
            "text/plain": [
              "'apple\\n'"
            ]
          },
          "metadata": {},
          "execution_count": 11
        }
      ]
    },
    {
      "cell_type": "code",
      "metadata": {
        "id": "beGhmsv2V9Nk",
        "colab": {
          "base_uri": "https://localhost:8080/",
          "height": 35
        },
        "outputId": "c3215e74-b682-4d39-ca1d-f1fcd365082e"
      },
      "source": [
        "data[0].strip()"
      ],
      "execution_count": 12,
      "outputs": [
        {
          "output_type": "execute_result",
          "data": {
            "application/vnd.google.colaboratory.intrinsic+json": {
              "type": "string"
            },
            "text/plain": [
              "'apple'"
            ]
          },
          "metadata": {},
          "execution_count": 12
        }
      ]
    },
    {
      "cell_type": "code",
      "metadata": {
        "id": "8Y3rbtm2V9Nl"
      },
      "source": [
        "with open('words.txt', 'r') as fr:\n",
        "    data= fr.readlines()"
      ],
      "execution_count": 13,
      "outputs": []
    },
    {
      "cell_type": "code",
      "metadata": {
        "id": "Da1z7P5SV9Nl",
        "colab": {
          "base_uri": "https://localhost:8080/"
        },
        "outputId": "7d0ba3a4-7cf2-465c-a66d-6d18a949f7e2"
      },
      "source": [
        "help(fr)"
      ],
      "execution_count": 14,
      "outputs": [
        {
          "output_type": "stream",
          "name": "stdout",
          "text": [
            "Help on TextIOWrapper object:\n",
            "\n",
            "class TextIOWrapper(_TextIOBase)\n",
            " |  TextIOWrapper(buffer, encoding=None, errors=None, newline=None, line_buffering=False, write_through=False)\n",
            " |  \n",
            " |  Character and line based layer over a BufferedIOBase object, buffer.\n",
            " |  \n",
            " |  encoding gives the name of the encoding that the stream will be\n",
            " |  decoded or encoded with. It defaults to locale.getpreferredencoding(False).\n",
            " |  \n",
            " |  errors determines the strictness of encoding and decoding (see\n",
            " |  help(codecs.Codec) or the documentation for codecs.register) and\n",
            " |  defaults to \"strict\".\n",
            " |  \n",
            " |  newline controls how line endings are handled. It can be None, '',\n",
            " |  '\\n', '\\r', and '\\r\\n'.  It works as follows:\n",
            " |  \n",
            " |  * On input, if newline is None, universal newlines mode is\n",
            " |    enabled. Lines in the input can end in '\\n', '\\r', or '\\r\\n', and\n",
            " |    these are translated into '\\n' before being returned to the\n",
            " |    caller. If it is '', universal newline mode is enabled, but line\n",
            " |    endings are returned to the caller untranslated. If it has any of\n",
            " |    the other legal values, input lines are only terminated by the given\n",
            " |    string, and the line ending is returned to the caller untranslated.\n",
            " |  \n",
            " |  * On output, if newline is None, any '\\n' characters written are\n",
            " |    translated to the system default line separator, os.linesep. If\n",
            " |    newline is '' or '\\n', no translation takes place. If newline is any\n",
            " |    of the other legal values, any '\\n' characters written are translated\n",
            " |    to the given string.\n",
            " |  \n",
            " |  If line_buffering is True, a call to flush is implied when a call to\n",
            " |  write contains a newline character.\n",
            " |  \n",
            " |  Method resolution order:\n",
            " |      TextIOWrapper\n",
            " |      _TextIOBase\n",
            " |      _IOBase\n",
            " |      builtins.object\n",
            " |  \n",
            " |  Methods defined here:\n",
            " |  \n",
            " |  __getstate__(...)\n",
            " |  \n",
            " |  __init__(self, /, *args, **kwargs)\n",
            " |      Initialize self.  See help(type(self)) for accurate signature.\n",
            " |  \n",
            " |  __next__(self, /)\n",
            " |      Implement next(self).\n",
            " |  \n",
            " |  __repr__(self, /)\n",
            " |      Return repr(self).\n",
            " |  \n",
            " |  close(self, /)\n",
            " |      Flush and close the IO object.\n",
            " |      \n",
            " |      This method has no effect if the file is already closed.\n",
            " |  \n",
            " |  detach(self, /)\n",
            " |      Separate the underlying buffer from the TextIOBase and return it.\n",
            " |      \n",
            " |      After the underlying buffer has been detached, the TextIO is in an\n",
            " |      unusable state.\n",
            " |  \n",
            " |  fileno(self, /)\n",
            " |      Returns underlying file descriptor if one exists.\n",
            " |      \n",
            " |      OSError is raised if the IO object does not use a file descriptor.\n",
            " |  \n",
            " |  flush(self, /)\n",
            " |      Flush write buffers, if applicable.\n",
            " |      \n",
            " |      This is not implemented for read-only and non-blocking streams.\n",
            " |  \n",
            " |  isatty(self, /)\n",
            " |      Return whether this is an 'interactive' stream.\n",
            " |      \n",
            " |      Return False if it can't be determined.\n",
            " |  \n",
            " |  read(self, size=-1, /)\n",
            " |      Read at most n characters from stream.\n",
            " |      \n",
            " |      Read from underlying buffer until we have n characters or we hit EOF.\n",
            " |      If n is negative or omitted, read until EOF.\n",
            " |  \n",
            " |  readable(self, /)\n",
            " |      Return whether object was opened for reading.\n",
            " |      \n",
            " |      If False, read() will raise OSError.\n",
            " |  \n",
            " |  readline(self, size=-1, /)\n",
            " |      Read until newline or EOF.\n",
            " |      \n",
            " |      Returns an empty string if EOF is hit immediately.\n",
            " |  \n",
            " |  reconfigure(self, /, *, encoding=None, errors=None, newline=None, line_buffering=None, write_through=None)\n",
            " |      Reconfigure the text stream with new parameters.\n",
            " |      \n",
            " |      This also does an implicit stream flush.\n",
            " |  \n",
            " |  seek(self, cookie, whence=0, /)\n",
            " |      Change stream position.\n",
            " |      \n",
            " |      Change the stream position to the given byte offset. The offset is\n",
            " |      interpreted relative to the position indicated by whence.  Values\n",
            " |      for whence are:\n",
            " |      \n",
            " |      * 0 -- start of stream (the default); offset should be zero or positive\n",
            " |      * 1 -- current stream position; offset may be negative\n",
            " |      * 2 -- end of stream; offset is usually negative\n",
            " |      \n",
            " |      Return the new absolute position.\n",
            " |  \n",
            " |  seekable(self, /)\n",
            " |      Return whether object supports random access.\n",
            " |      \n",
            " |      If False, seek(), tell() and truncate() will raise OSError.\n",
            " |      This method may need to do a test seek().\n",
            " |  \n",
            " |  tell(self, /)\n",
            " |      Return current stream position.\n",
            " |  \n",
            " |  truncate(self, pos=None, /)\n",
            " |      Truncate file to size bytes.\n",
            " |      \n",
            " |      File pointer is left unchanged.  Size defaults to the current IO\n",
            " |      position as reported by tell().  Returns the new size.\n",
            " |  \n",
            " |  writable(self, /)\n",
            " |      Return whether object was opened for writing.\n",
            " |      \n",
            " |      If False, write() will raise OSError.\n",
            " |  \n",
            " |  write(self, text, /)\n",
            " |      Write string to stream.\n",
            " |      Returns the number of characters written (which is always equal to\n",
            " |      the length of the string).\n",
            " |  \n",
            " |  ----------------------------------------------------------------------\n",
            " |  Static methods defined here:\n",
            " |  \n",
            " |  __new__(*args, **kwargs) from builtins.type\n",
            " |      Create and return a new object.  See help(type) for accurate signature.\n",
            " |  \n",
            " |  ----------------------------------------------------------------------\n",
            " |  Data descriptors defined here:\n",
            " |  \n",
            " |  buffer\n",
            " |  \n",
            " |  closed\n",
            " |  \n",
            " |  encoding\n",
            " |      Encoding of the text stream.\n",
            " |      \n",
            " |      Subclasses should override.\n",
            " |  \n",
            " |  errors\n",
            " |      The error setting of the decoder or encoder.\n",
            " |      \n",
            " |      Subclasses should override.\n",
            " |  \n",
            " |  line_buffering\n",
            " |  \n",
            " |  name\n",
            " |  \n",
            " |  newlines\n",
            " |      Line endings translated so far.\n",
            " |      \n",
            " |      Only line endings translated during reading are considered.\n",
            " |      \n",
            " |      Subclasses should override.\n",
            " |  \n",
            " |  write_through\n",
            " |  \n",
            " |  ----------------------------------------------------------------------\n",
            " |  Methods inherited from _IOBase:\n",
            " |  \n",
            " |  __del__(...)\n",
            " |  \n",
            " |  __enter__(...)\n",
            " |  \n",
            " |  __exit__(...)\n",
            " |  \n",
            " |  __iter__(self, /)\n",
            " |      Implement iter(self).\n",
            " |  \n",
            " |  readlines(self, hint=-1, /)\n",
            " |      Return a list of lines from the stream.\n",
            " |      \n",
            " |      hint can be specified to control the number of lines read: no more\n",
            " |      lines will be read if the total size (in bytes/characters) of all\n",
            " |      lines so far exceeds hint.\n",
            " |  \n",
            " |  writelines(self, lines, /)\n",
            " |      Write a list of lines to stream.\n",
            " |      \n",
            " |      Line separators are not added, so it is usual for each of the\n",
            " |      lines provided to have a line separator at the end.\n",
            " |  \n",
            " |  ----------------------------------------------------------------------\n",
            " |  Data descriptors inherited from _IOBase:\n",
            " |  \n",
            " |  __dict__\n",
            "\n"
          ]
        }
      ]
    },
    {
      "cell_type": "code",
      "metadata": {
        "id": "5OpWl5d1V9Nm",
        "colab": {
          "base_uri": "https://localhost:8080/"
        },
        "outputId": "e937213f-f61d-411e-cce5-b6cee328e61d"
      },
      "source": [
        "data"
      ],
      "execution_count": 15,
      "outputs": [
        {
          "output_type": "execute_result",
          "data": {
            "text/plain": [
              "['apple\\n',\n",
              " 'ball\\n',\n",
              " 'cat\\n',\n",
              " 'dog\\n',\n",
              " 'elephant\\n',\n",
              " 'zebra\\n',\n",
              " '1\\n',\n",
              " '[1, 2, 3]']"
            ]
          },
          "metadata": {},
          "execution_count": 15
        }
      ]
    },
    {
      "cell_type": "code",
      "metadata": {
        "id": "f4h5rLPzV9Nm",
        "colab": {
          "base_uri": "https://localhost:8080/"
        },
        "outputId": "92943308-c3e9-4265-9de4-6157b36d0933"
      },
      "source": [
        "for el in data:\n",
        "    print(el.strip())"
      ],
      "execution_count": 16,
      "outputs": [
        {
          "output_type": "stream",
          "name": "stdout",
          "text": [
            "apple\n",
            "ball\n",
            "cat\n",
            "dog\n",
            "elephant\n",
            "zebra\n",
            "1\n",
            "[1, 2, 3]\n"
          ]
        }
      ]
    },
    {
      "cell_type": "code",
      "metadata": {
        "id": "ojcOXFKRaYbv",
        "colab": {
          "base_uri": "https://localhost:8080/"
        },
        "outputId": "f214b87b-56bb-421a-f00a-2d77f22e0faf"
      },
      "source": [
        "for el in data:\n",
        "    print(el)"
      ],
      "execution_count": 17,
      "outputs": [
        {
          "output_type": "stream",
          "name": "stdout",
          "text": [
            "apple\n",
            "\n",
            "ball\n",
            "\n",
            "cat\n",
            "\n",
            "dog\n",
            "\n",
            "elephant\n",
            "\n",
            "zebra\n",
            "\n",
            "1\n",
            "\n",
            "[1, 2, 3]\n"
          ]
        }
      ]
    },
    {
      "cell_type": "code",
      "metadata": {
        "id": "nTwUbnvFV9Nn"
      },
      "source": [
        "data.sort()\n",
        "    "
      ],
      "execution_count": 18,
      "outputs": []
    },
    {
      "cell_type": "code",
      "metadata": {
        "id": "9uQb7aVMV9Nn",
        "colab": {
          "base_uri": "https://localhost:8080/"
        },
        "outputId": "bad5d2a2-8251-4933-bac5-ad44daef670e"
      },
      "source": [
        "data"
      ],
      "execution_count": 19,
      "outputs": [
        {
          "output_type": "execute_result",
          "data": {
            "text/plain": [
              "['1\\n',\n",
              " '[1, 2, 3]',\n",
              " 'apple\\n',\n",
              " 'ball\\n',\n",
              " 'cat\\n',\n",
              " 'dog\\n',\n",
              " 'elephant\\n',\n",
              " 'zebra\\n']"
            ]
          },
          "metadata": {},
          "execution_count": 19
        }
      ]
    },
    {
      "cell_type": "code",
      "metadata": {
        "id": "vXMyNb4talnv",
        "colab": {
          "base_uri": "https://localhost:8080/"
        },
        "outputId": "3e6c6f94-22af-4f0d-8f98-8a683b4e07a9"
      },
      "source": [
        "%ls"
      ],
      "execution_count": 20,
      "outputs": [
        {
          "output_type": "stream",
          "name": "stdout",
          "text": [
            "\u001b[0m\u001b[01;34msample_data\u001b[0m/  test1.txt  words.txt\n"
          ]
        }
      ]
    },
    {
      "cell_type": "code",
      "metadata": {
        "id": "Uste-0SOV9Nn"
      },
      "source": [
        "with open('words1.txt', 'w') as newFile: \n",
        "    for word in data:\n",
        "        newFile.write(word)"
      ],
      "execution_count": 21,
      "outputs": []
    },
    {
      "cell_type": "code",
      "metadata": {
        "id": "abTQ3PvzaoX5",
        "colab": {
          "base_uri": "https://localhost:8080/"
        },
        "outputId": "f7631daa-cd9a-4e87-8351-6c6a95c8cfb3"
      },
      "source": [
        "%cat words.txt"
      ],
      "execution_count": 22,
      "outputs": [
        {
          "output_type": "stream",
          "name": "stdout",
          "text": [
            "apple\n",
            "ball\n",
            "cat\n",
            "dog\n",
            "elephant\n",
            "zebra\n",
            "1\n",
            "[1, 2, 3]"
          ]
        }
      ]
    },
    {
      "cell_type": "markdown",
      "metadata": {
        "id": "LYdkmtckV9No"
      },
      "source": [
        "## read data line by line\n",
        "- let's create a file with about 10 integers one per line\n",
        "- then, read the integer line by line into a list of integers"
      ]
    },
    {
      "cell_type": "code",
      "metadata": {
        "id": "sbb2AqR4V9No"
      },
      "source": [
        "# create a file with 10 integers\n",
        "# one integer per line\n",
        "import random\n",
        "random.seed(42)\n",
        "with open('integers.txt', 'w') as fout:\n",
        "    for i in range(15):\n",
        "        num = random.randint(1, 1000)\n",
        "        fout.write(str(num) + '\\n')"
      ],
      "execution_count": 23,
      "outputs": []
    },
    {
      "cell_type": "code",
      "metadata": {
        "id": "7rBYtQCrc6yT",
        "colab": {
          "base_uri": "https://localhost:8080/"
        },
        "outputId": "bacaa7f9-8a47-41fd-9cf7-5989f5248587"
      },
      "source": [
        "%ls"
      ],
      "execution_count": 24,
      "outputs": [
        {
          "output_type": "stream",
          "name": "stdout",
          "text": [
            "integers.txt  \u001b[0m\u001b[01;34msample_data\u001b[0m/  test1.txt  words1.txt  words.txt\n"
          ]
        }
      ]
    },
    {
      "cell_type": "code",
      "metadata": {
        "id": "JTIj81Phc9_7",
        "colab": {
          "base_uri": "https://localhost:8080/"
        },
        "outputId": "a743b342-3840-4eb0-8f5a-557f3dc68c7b"
      },
      "source": [
        "!cat integers.txt"
      ],
      "execution_count": 25,
      "outputs": [
        {
          "output_type": "stream",
          "name": "stdout",
          "text": [
            "655\n",
            "115\n",
            "26\n",
            "760\n",
            "282\n",
            "251\n",
            "229\n",
            "143\n",
            "755\n",
            "105\n",
            "693\n",
            "759\n",
            "914\n",
            "559\n",
            "90\n"
          ]
        }
      ]
    },
    {
      "cell_type": "code",
      "metadata": {
        "id": "wQ4E49X8V9Np",
        "colab": {
          "base_uri": "https://localhost:8080/"
        },
        "outputId": "d00e2f97-3928-40ef-a2fd-e549770e97e1"
      },
      "source": [
        "# read the integer line by line into a list\n",
        "intList = []\n",
        "with open('integers.txt', 'r') as fin:\n",
        "    while True:\n",
        "        num = fin.readline()\n",
        "        print('num = ', repr(num), type(num))\n",
        "        num = num.strip() # strip \\n\n",
        "        if not num:\n",
        "            break\n",
        "        print('num = ', num, type(num))\n",
        "        intList.append(int(num))"
      ],
      "execution_count": 27,
      "outputs": [
        {
          "output_type": "stream",
          "name": "stdout",
          "text": [
            "num =  '655\\n' <class 'str'>\n",
            "num =  655 <class 'str'>\n",
            "num =  '115\\n' <class 'str'>\n",
            "num =  115 <class 'str'>\n",
            "num =  '26\\n' <class 'str'>\n",
            "num =  26 <class 'str'>\n",
            "num =  '760\\n' <class 'str'>\n",
            "num =  760 <class 'str'>\n",
            "num =  '282\\n' <class 'str'>\n",
            "num =  282 <class 'str'>\n",
            "num =  '251\\n' <class 'str'>\n",
            "num =  251 <class 'str'>\n",
            "num =  '229\\n' <class 'str'>\n",
            "num =  229 <class 'str'>\n",
            "num =  '143\\n' <class 'str'>\n",
            "num =  143 <class 'str'>\n",
            "num =  '755\\n' <class 'str'>\n",
            "num =  755 <class 'str'>\n",
            "num =  '105\\n' <class 'str'>\n",
            "num =  105 <class 'str'>\n",
            "num =  '693\\n' <class 'str'>\n",
            "num =  693 <class 'str'>\n",
            "num =  '759\\n' <class 'str'>\n",
            "num =  759 <class 'str'>\n",
            "num =  '914\\n' <class 'str'>\n",
            "num =  914 <class 'str'>\n",
            "num =  '559\\n' <class 'str'>\n",
            "num =  559 <class 'str'>\n",
            "num =  '90\\n' <class 'str'>\n",
            "num =  90 <class 'str'>\n",
            "num =  '' <class 'str'>\n"
          ]
        }
      ]
    },
    {
      "cell_type": "code",
      "metadata": {
        "id": "rNkPeCn6V9Nq",
        "colab": {
          "base_uri": "https://localhost:8080/"
        },
        "outputId": "adfa1d37-f01a-40cf-bf1a-9bad9e2cd9f8"
      },
      "source": [
        "print(intList)"
      ],
      "execution_count": 28,
      "outputs": [
        {
          "output_type": "stream",
          "name": "stdout",
          "text": [
            "[655, 115, 26, 760, 282, 251, 229, 143, 755, 105, 693, 759, 914, 559, 90]\n"
          ]
        }
      ]
    },
    {
      "cell_type": "code",
      "metadata": {
        "id": "v1woV0JAfwp2",
        "colab": {
          "base_uri": "https://localhost:8080/"
        },
        "outputId": "092627d1-81a4-4f55-90d1-564f26008520"
      },
      "source": [
        "!cat integers.txt"
      ],
      "execution_count": 29,
      "outputs": [
        {
          "output_type": "stream",
          "name": "stdout",
          "text": [
            "655\n",
            "115\n",
            "26\n",
            "760\n",
            "282\n",
            "251\n",
            "229\n",
            "143\n",
            "755\n",
            "105\n",
            "693\n",
            "759\n",
            "914\n",
            "559\n",
            "90\n"
          ]
        }
      ]
    },
    {
      "cell_type": "markdown",
      "metadata": {
        "id": "kJ_pj61nV9Nq"
      },
      "source": [
        "## reading the whole file at once\n",
        "- read /usr/share/dict/words file on linux/mac\n",
        "- windows path might be \"C:/temp/words.txt\" or c:\\\\temp\\\\words.txt\"\n",
        "- if the file doesn't exist, use provided words.txt file or create a text file with a bunch of words in it using an editor"
      ]
    },
    {
      "cell_type": "code",
      "metadata": {
        "id": "8ZfpuHFMV9Nq",
        "colab": {
          "base_uri": "https://localhost:8080/"
        },
        "outputId": "d0a3bc25-3f3a-4342-d668-ff98a3e76d14"
      },
      "source": [
        "# read first 10 lines using head program\n",
        "! head integers.txt"
      ],
      "execution_count": 30,
      "outputs": [
        {
          "output_type": "stream",
          "name": "stdout",
          "text": [
            "655\n",
            "115\n",
            "26\n",
            "760\n",
            "282\n",
            "251\n",
            "229\n",
            "143\n",
            "755\n",
            "105\n"
          ]
        }
      ]
    },
    {
      "cell_type": "code",
      "metadata": {
        "id": "9cPq0-vrV9Nr",
        "colab": {
          "base_uri": "https://localhost:8080/"
        },
        "outputId": "a502ffcd-5867-4b99-bc36-1d62b58f2191"
      },
      "source": [
        "# read last 10 lines using head program\n",
        "! tail integers.txt"
      ],
      "execution_count": 31,
      "outputs": [
        {
          "output_type": "stream",
          "name": "stdout",
          "text": [
            "251\n",
            "229\n",
            "143\n",
            "755\n",
            "105\n",
            "693\n",
            "759\n",
            "914\n",
            "559\n",
            "90\n"
          ]
        }
      ]
    },
    {
      "cell_type": "code",
      "metadata": {
        "id": "H77bIy3eV9Nr"
      },
      "source": [
        "file = 'integers.txt' # works on mac/linux\n",
        "with open(file) as f:\n",
        "    data = f.read()\n"
      ],
      "execution_count": 32,
      "outputs": []
    },
    {
      "cell_type": "code",
      "metadata": {
        "id": "fLOUjYhrV9Ns",
        "colab": {
          "base_uri": "https://localhost:8080/",
          "height": 35
        },
        "outputId": "aca61256-9e78-4b60-9bd6-71fc8d89d4af"
      },
      "source": [
        "data"
      ],
      "execution_count": 33,
      "outputs": [
        {
          "output_type": "execute_result",
          "data": {
            "application/vnd.google.colaboratory.intrinsic+json": {
              "type": "string"
            },
            "text/plain": [
              "'655\\n115\\n26\\n760\\n282\\n251\\n229\\n143\\n755\\n105\\n693\\n759\\n914\\n559\\n90\\n'"
            ]
          },
          "metadata": {},
          "execution_count": 33
        }
      ]
    },
    {
      "cell_type": "code",
      "metadata": {
        "id": "OdwJnLqkjxYe",
        "colab": {
          "base_uri": "https://localhost:8080/"
        },
        "outputId": "fe10888e-499a-42dd-813d-1dcbf634ca86"
      },
      "source": [
        "type(data)"
      ],
      "execution_count": 34,
      "outputs": [
        {
          "output_type": "execute_result",
          "data": {
            "text/plain": [
              "str"
            ]
          },
          "metadata": {},
          "execution_count": 34
        }
      ]
    },
    {
      "cell_type": "code",
      "metadata": {
        "id": "sI7WOKUmV9Ns",
        "colab": {
          "base_uri": "https://localhost:8080/"
        },
        "outputId": "88f607ef-14d8-4643-ea60-557ab5583228"
      },
      "source": [
        "words = data.split('\\n')\n",
        "print('There are {0} words in the file.'.format(len(words)))"
      ],
      "execution_count": 35,
      "outputs": [
        {
          "output_type": "stream",
          "name": "stdout",
          "text": [
            "There are 16 words in the file.\n"
          ]
        }
      ]
    },
    {
      "cell_type": "code",
      "metadata": {
        "id": "O1kOrEAGirZ5",
        "colab": {
          "base_uri": "https://localhost:8080/"
        },
        "outputId": "ad06595f-8200-4ba0-c8e9-d074db8163de"
      },
      "source": [
        "words"
      ],
      "execution_count": 36,
      "outputs": [
        {
          "output_type": "execute_result",
          "data": {
            "text/plain": [
              "['655',\n",
              " '115',\n",
              " '26',\n",
              " '760',\n",
              " '282',\n",
              " '251',\n",
              " '229',\n",
              " '143',\n",
              " '755',\n",
              " '105',\n",
              " '693',\n",
              " '759',\n",
              " '914',\n",
              " '559',\n",
              " '90',\n",
              " '']"
            ]
          },
          "metadata": {},
          "execution_count": 36
        }
      ]
    },
    {
      "cell_type": "code",
      "metadata": {
        "id": "-d5WXhhyV9Ns",
        "colab": {
          "base_uri": "https://localhost:8080/"
        },
        "outputId": "3b57a9da-294a-450c-f82a-14c4054aea19"
      },
      "source": [
        "data.find('105')"
      ],
      "execution_count": 37,
      "outputs": [
        {
          "output_type": "execute_result",
          "data": {
            "text/plain": [
              "35"
            ]
          },
          "metadata": {},
          "execution_count": 37
        }
      ]
    },
    {
      "cell_type": "code",
      "metadata": {
        "id": "XUDGE5vIV9Ns",
        "colab": {
          "base_uri": "https://localhost:8080/",
          "height": 35
        },
        "outputId": "ff8efa82-0520-4130-fcf2-3f5402220416"
      },
      "source": [
        "data[35:35+3]"
      ],
      "execution_count": 38,
      "outputs": [
        {
          "output_type": "execute_result",
          "data": {
            "application/vnd.google.colaboratory.intrinsic+json": {
              "type": "string"
            },
            "text/plain": [
              "'105'"
            ]
          },
          "metadata": {},
          "execution_count": 38
        }
      ]
    },
    {
      "cell_type": "code",
      "metadata": {
        "id": "IWmM59AwV9Nt",
        "colab": {
          "base_uri": "https://localhost:8080/"
        },
        "outputId": "ab316d77-a6db-4333-f4f7-96ccfe4ca9e3"
      },
      "source": [
        "# let's print first 10 lines\n",
        "print(words[:10])"
      ],
      "execution_count": 39,
      "outputs": [
        {
          "output_type": "stream",
          "name": "stdout",
          "text": [
            "['655', '115', '26', '760', '282', '251', '229', '143', '755', '105']\n"
          ]
        }
      ]
    },
    {
      "cell_type": "code",
      "metadata": {
        "id": "1M9WVBZ6V9Nt",
        "colab": {
          "base_uri": "https://localhost:8080/"
        },
        "outputId": "30366ac1-afd1-4426-e5ed-3ae09b53dc9f"
      },
      "source": [
        "help(list)"
      ],
      "execution_count": 40,
      "outputs": [
        {
          "output_type": "stream",
          "name": "stdout",
          "text": [
            "Help on class list in module builtins:\n",
            "\n",
            "class list(object)\n",
            " |  list(iterable=(), /)\n",
            " |  \n",
            " |  Built-in mutable sequence.\n",
            " |  \n",
            " |  If no argument is given, the constructor creates a new empty list.\n",
            " |  The argument must be an iterable if specified.\n",
            " |  \n",
            " |  Methods defined here:\n",
            " |  \n",
            " |  __add__(self, value, /)\n",
            " |      Return self+value.\n",
            " |  \n",
            " |  __contains__(self, key, /)\n",
            " |      Return key in self.\n",
            " |  \n",
            " |  __delitem__(self, key, /)\n",
            " |      Delete self[key].\n",
            " |  \n",
            " |  __eq__(self, value, /)\n",
            " |      Return self==value.\n",
            " |  \n",
            " |  __ge__(self, value, /)\n",
            " |      Return self>=value.\n",
            " |  \n",
            " |  __getattribute__(self, name, /)\n",
            " |      Return getattr(self, name).\n",
            " |  \n",
            " |  __getitem__(...)\n",
            " |      x.__getitem__(y) <==> x[y]\n",
            " |  \n",
            " |  __gt__(self, value, /)\n",
            " |      Return self>value.\n",
            " |  \n",
            " |  __iadd__(self, value, /)\n",
            " |      Implement self+=value.\n",
            " |  \n",
            " |  __imul__(self, value, /)\n",
            " |      Implement self*=value.\n",
            " |  \n",
            " |  __init__(self, /, *args, **kwargs)\n",
            " |      Initialize self.  See help(type(self)) for accurate signature.\n",
            " |  \n",
            " |  __iter__(self, /)\n",
            " |      Implement iter(self).\n",
            " |  \n",
            " |  __le__(self, value, /)\n",
            " |      Return self<=value.\n",
            " |  \n",
            " |  __len__(self, /)\n",
            " |      Return len(self).\n",
            " |  \n",
            " |  __lt__(self, value, /)\n",
            " |      Return self<value.\n",
            " |  \n",
            " |  __mul__(self, value, /)\n",
            " |      Return self*value.\n",
            " |  \n",
            " |  __ne__(self, value, /)\n",
            " |      Return self!=value.\n",
            " |  \n",
            " |  __repr__(self, /)\n",
            " |      Return repr(self).\n",
            " |  \n",
            " |  __reversed__(self, /)\n",
            " |      Return a reverse iterator over the list.\n",
            " |  \n",
            " |  __rmul__(self, value, /)\n",
            " |      Return value*self.\n",
            " |  \n",
            " |  __setitem__(self, key, value, /)\n",
            " |      Set self[key] to value.\n",
            " |  \n",
            " |  __sizeof__(self, /)\n",
            " |      Return the size of the list in memory, in bytes.\n",
            " |  \n",
            " |  append(self, object, /)\n",
            " |      Append object to the end of the list.\n",
            " |  \n",
            " |  clear(self, /)\n",
            " |      Remove all items from list.\n",
            " |  \n",
            " |  copy(self, /)\n",
            " |      Return a shallow copy of the list.\n",
            " |  \n",
            " |  count(self, value, /)\n",
            " |      Return number of occurrences of value.\n",
            " |  \n",
            " |  extend(self, iterable, /)\n",
            " |      Extend list by appending elements from the iterable.\n",
            " |  \n",
            " |  index(self, value, start=0, stop=9223372036854775807, /)\n",
            " |      Return first index of value.\n",
            " |      \n",
            " |      Raises ValueError if the value is not present.\n",
            " |  \n",
            " |  insert(self, index, object, /)\n",
            " |      Insert object before index.\n",
            " |  \n",
            " |  pop(self, index=-1, /)\n",
            " |      Remove and return item at index (default last).\n",
            " |      \n",
            " |      Raises IndexError if list is empty or index is out of range.\n",
            " |  \n",
            " |  remove(self, value, /)\n",
            " |      Remove first occurrence of value.\n",
            " |      \n",
            " |      Raises ValueError if the value is not present.\n",
            " |  \n",
            " |  reverse(self, /)\n",
            " |      Reverse *IN PLACE*.\n",
            " |  \n",
            " |  sort(self, /, *, key=None, reverse=False)\n",
            " |      Stable sort *IN PLACE*.\n",
            " |  \n",
            " |  ----------------------------------------------------------------------\n",
            " |  Static methods defined here:\n",
            " |  \n",
            " |  __new__(*args, **kwargs) from builtins.type\n",
            " |      Create and return a new object.  See help(type) for accurate signature.\n",
            " |  \n",
            " |  ----------------------------------------------------------------------\n",
            " |  Data and other attributes defined here:\n",
            " |  \n",
            " |  __hash__ = None\n",
            "\n"
          ]
        }
      ]
    },
    {
      "cell_type": "code",
      "metadata": {
        "id": "TnBZb26aV9Nt",
        "colab": {
          "base_uri": "https://localhost:8080/"
        },
        "outputId": "0059b7bb-eb35-4b58-f5fb-d8e047662be0"
      },
      "source": [
        "words.index('105')"
      ],
      "execution_count": 41,
      "outputs": [
        {
          "output_type": "execute_result",
          "data": {
            "text/plain": [
              "9"
            ]
          },
          "metadata": {},
          "execution_count": 41
        }
      ]
    },
    {
      "cell_type": "code",
      "metadata": {
        "id": "tlCLOkw4V9Nt",
        "colab": {
          "base_uri": "https://localhost:8080/",
          "height": 35
        },
        "outputId": "ea2f4453-124b-40e8-d717-56f15b24b98f"
      },
      "source": [
        "words[9]"
      ],
      "execution_count": 42,
      "outputs": [
        {
          "output_type": "execute_result",
          "data": {
            "application/vnd.google.colaboratory.intrinsic+json": {
              "type": "string"
            },
            "text/plain": [
              "'105'"
            ]
          },
          "metadata": {},
          "execution_count": 42
        }
      ]
    },
    {
      "cell_type": "markdown",
      "metadata": {
        "id": "TZmieTJGV9Nu"
      },
      "source": [
        "## reading the whole file as list of lines"
      ]
    },
    {
      "cell_type": "code",
      "metadata": {
        "id": "rgCaLWpxkdNL",
        "colab": {
          "base_uri": "https://localhost:8080/",
          "height": 35
        },
        "outputId": "c8a8f1ab-b9dc-4c99-d496-7a9d4e94f1d3"
      },
      "source": [
        "data"
      ],
      "execution_count": 43,
      "outputs": [
        {
          "output_type": "execute_result",
          "data": {
            "application/vnd.google.colaboratory.intrinsic+json": {
              "type": "string"
            },
            "text/plain": [
              "'655\\n115\\n26\\n760\\n282\\n251\\n229\\n143\\n755\\n105\\n693\\n759\\n914\\n559\\n90\\n'"
            ]
          },
          "metadata": {},
          "execution_count": 43
        }
      ]
    },
    {
      "cell_type": "code",
      "metadata": {
        "id": "d-Bf8KfPV9Nu",
        "colab": {
          "base_uri": "https://localhost:8080/"
        },
        "outputId": "4aa60ff1-f654-4c32-b1db-8fb9e8e2aac9"
      },
      "source": [
        "file = 'integers.txt'\n",
        "with open(file) as f:\n",
        "    lines = f.readlines()\n",
        "\n",
        "print('There are {0} characters in the file.'.format(len(data)))"
      ],
      "execution_count": 44,
      "outputs": [
        {
          "output_type": "stream",
          "name": "stdout",
          "text": [
            "There are 58 characters in the file.\n"
          ]
        }
      ]
    },
    {
      "cell_type": "code",
      "metadata": {
        "id": "qqiVCzy2V9Nu",
        "colab": {
          "base_uri": "https://localhost:8080/"
        },
        "outputId": "30079b05-fd9e-44ce-c476-8896db897e16"
      },
      "source": [
        "lines[:2]"
      ],
      "execution_count": 45,
      "outputs": [
        {
          "output_type": "execute_result",
          "data": {
            "text/plain": [
              "['655\\n', '115\\n']"
            ]
          },
          "metadata": {},
          "execution_count": 45
        }
      ]
    },
    {
      "cell_type": "code",
      "metadata": {
        "id": "T3rdt5lpV9Nu",
        "colab": {
          "base_uri": "https://localhost:8080/"
        },
        "outputId": "7bb35d2d-632c-498e-ad9f-9ee626719708"
      },
      "source": [
        "for word in lines[:10]:\n",
        "    print(word.strip())"
      ],
      "execution_count": 46,
      "outputs": [
        {
          "output_type": "stream",
          "name": "stdout",
          "text": [
            "655\n",
            "115\n",
            "26\n",
            "760\n",
            "282\n",
            "251\n",
            "229\n",
            "143\n",
            "755\n",
            "105\n"
          ]
        }
      ]
    },
    {
      "cell_type": "code",
      "metadata": {
        "id": "Tnad3fHIV9Nv",
        "colab": {
          "base_uri": "https://localhost:8080/"
        },
        "outputId": "81da2798-8733-4d05-c8aa-603541092002"
      },
      "source": [
        "for word in lines[len(lines)-10:]:\n",
        "    print(word.strip())"
      ],
      "execution_count": 47,
      "outputs": [
        {
          "output_type": "stream",
          "name": "stdout",
          "text": [
            "251\n",
            "229\n",
            "143\n",
            "755\n",
            "105\n",
            "693\n",
            "759\n",
            "914\n",
            "559\n",
            "90\n"
          ]
        }
      ]
    },
    {
      "cell_type": "markdown",
      "metadata": {
        "id": "0ZIiW7_PV9Nv"
      },
      "source": [
        "## select a random word from list of words\n",
        "- import random\n",
        "- random.choice(wordList)"
      ]
    },
    {
      "cell_type": "code",
      "metadata": {
        "id": "_d_aA1YfV9Nv",
        "outputId": "5d5a87f5-4863-42eb-a815-988d5a43e2d9"
      },
      "source": [
        "import random\n",
        "word = random.choice(lines)\n",
        "word = word.lower()\n",
        "print(f'random word = {word}')"
      ],
      "execution_count": null,
      "outputs": [
        {
          "name": "stdout",
          "output_type": "stream",
          "text": [
            "random word = multisegmentate\n",
            "\n"
          ]
        }
      ]
    },
    {
      "cell_type": "markdown",
      "metadata": {
        "id": "7Sy8-T3LV9Nv"
      },
      "source": [
        "## exercises\n",
        "1. Write a program that reads a file and writes out a new file with the lines in reversed order (i.e. the first line in the old file becomes the last one in the new file.)\n",
        "2. Write a program that reads a file and prints only those lines that contain the substring snake.\n",
        "3. Write a program that reads a text file and produces an output file which is a copy of the file, except the first five columns of each line contain a four digit line number, followed by a space. Start numbering the first line in the output file at 1. Ensure that every line number is formatted to the same width in the output file. Use one of your Python programs as test data for this exercise: your output should be a printed and numbered listing of the Python program.\n",
        "4. Write a program that undoes the numbering of the previous exercise: it should read a file with numbered lines and produce another file without line numbers."
      ]
    },
    {
      "cell_type": "code",
      "metadata": {
        "id": "7mZkFXP0V9Nw"
      },
      "source": [
        ""
      ],
      "execution_count": null,
      "outputs": []
    }
  ]
}